{
  "nbformat": 4,
  "nbformat_minor": 0,
  "metadata": {
    "colab": {
      "name": "03 Amazon Fine Food Reviews Analysis_KNN.ipynb",
      "version": "0.3.2",
      "provenance": [],
      "toc_visible": true,
      "include_colab_link": true
    },
    "language_info": {
      "codemirror_mode": {
        "name": "ipython",
        "version": 3
      },
      "file_extension": ".py",
      "mimetype": "text/x-python",
      "name": "python",
      "nbconvert_exporter": "python",
      "pygments_lexer": "ipython3",
      "version": "3.6.6"
    },
    "kernelspec": {
      "name": "python3",
      "display_name": "Python 3"
    },
    "accelerator": "GPU"
  },
  "cells": [
    {
      "cell_type": "markdown",
      "metadata": {
        "id": "view-in-github",
        "colab_type": "text"
      },
      "source": [
        "<a href=\"https://colab.research.google.com/github/data-science-and-machine-learning/amazon-fine-food-reviews-knn/blob/master/03_Amazon_Fine_Food_Reviews_Analysis_KNN.ipynb\" target=\"_parent\"><img src=\"https://colab.research.google.com/assets/colab-badge.svg\" alt=\"Open In Colab\"/></a>"
      ]
    },
    {
      "cell_type": "markdown",
      "metadata": {
        "id": "4UPJU7FIDYHb",
        "colab_type": "text"
      },
      "source": [
        "# Amazon Fine Food Reviews Analysis\n",
        "\n",
        "\n",
        "Data Source: https://www.kaggle.com/snap/amazon-fine-food-reviews <br>\n",
        "\n",
        "EDA: https://nycdatascience.com/blog/student-works/amazon-fine-foods-visualization/\n",
        "\n",
        "\n",
        "The Amazon Fine Food Reviews dataset consists of reviews of fine foods from Amazon.<br>\n",
        "\n",
        "Number of reviews: 568,454<br>\n",
        "Number of users: 256,059<br>\n",
        "Number of products: 74,258<br>\n",
        "Timespan: Oct 1999 - Oct 2012<br>\n",
        "Number of Attributes/Columns in data: 10 \n",
        "\n",
        "Attribute Information:\n",
        "\n",
        "1. Id\n",
        "2. ProductId - unique identifier for the product\n",
        "3. UserId - unqiue identifier for the user\n",
        "4. ProfileName\n",
        "5. HelpfulnessNumerator - number of users who found the review helpful\n",
        "6. HelpfulnessDenominator - number of users who indicated whether they found the review helpful or not\n",
        "7. Score - rating between 1 and 5\n",
        "8. Time - timestamp for the review\n",
        "9. Summary - brief summary of the review\n",
        "10. Text - text of the review\n",
        "\n",
        "\n",
        "#### Objective:\n",
        "Given a review, determine whether the review is positive (rating of 4 or 5) or negative (rating of 1 or 2).\n",
        "\n",
        "<br>\n",
        "[Q] How to determine if a review is positive or negative?<br>\n",
        "<br> \n",
        "[Ans] We could use Score/Rating. A rating of 4 or 5 can be cosnidered as a positive review. A rating of 1 or 2 can be considered as negative one. A review of rating 3 is considered nuetral and such reviews are ignored from our analysis. This is an approximate and proxy way of determining the polarity (positivity/negativity) of a review.\n",
        "\n",
        "\n"
      ]
    },
    {
      "cell_type": "markdown",
      "metadata": {
        "id": "Iac3VjZcDYHf",
        "colab_type": "text"
      },
      "source": [
        "# [1]. Reading Data"
      ]
    },
    {
      "cell_type": "markdown",
      "metadata": {
        "id": "wEsMRzNDDYHi",
        "colab_type": "text"
      },
      "source": [
        "## [1.1] Loading the data\n",
        "\n",
        "The dataset is available in two forms\n",
        "1. .csv file\n",
        "2. SQLite Database\n",
        "\n",
        "In order to load the data, We have used the SQLITE dataset as it is easier to query the data and visualise the data efficiently.\n",
        "<br> \n",
        "\n",
        "Here as we only want to get the global sentiment of the recommendations (positive or negative), we will purposefully ignore all Scores equal to 3. If the score is above 3, then the recommendation wil be set to \"positive\". Otherwise, it will be set to \"negative\"."
      ]
    },
    {
      "cell_type": "code",
      "metadata": {
        "id": "ADl9geUvDYHl",
        "colab_type": "code",
        "colab": {}
      },
      "source": [
        "%matplotlib inline\n",
        "import warnings\n",
        "warnings.filterwarnings(\"ignore\")\n",
        "\n",
        "\n",
        "import sqlite3\n",
        "import pandas as pd\n",
        "import numpy as np\n",
        "import nltk\n",
        "import string\n",
        "import matplotlib.pyplot as plt\n",
        "import seaborn as sns\n",
        "from sklearn.feature_extraction.text import TfidfTransformer\n",
        "from sklearn.feature_extraction.text import TfidfVectorizer\n",
        "\n",
        "from sklearn.feature_extraction.text import CountVectorizer\n",
        "from sklearn.metrics import confusion_matrix\n",
        "from sklearn import metrics\n",
        "from sklearn.metrics import roc_curve, auc\n",
        "from nltk.stem.porter import PorterStemmer\n",
        "\n",
        "import re\n",
        "# Tutorial about Python regular expressions: https://pymotw.com/2/re/\n",
        "import string\n",
        "from nltk.corpus import stopwords\n",
        "from nltk.stem import PorterStemmer\n",
        "from nltk.stem.wordnet import WordNetLemmatizer\n",
        "\n",
        "from gensim.models import Word2Vec\n",
        "from gensim.models import KeyedVectors\n",
        "import pickle\n",
        "\n",
        "from tqdm import tqdm\n",
        "import os"
      ],
      "execution_count": 0,
      "outputs": []
    },
    {
      "cell_type": "code",
      "metadata": {
        "id": "DecAwM8nG_Y9",
        "colab_type": "code",
        "outputId": "4eb44ee5-7f3e-4285-b713-824b042468bb",
        "colab": {
          "resources": {
            "http://localhost:8080/nbextensions/google.colab/files.js": {
              "data": "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",
              "ok": true,
              "headers": [
                [
                  "content-type",
                  "application/javascript"
                ]
              ],
              "status": 200,
              "status_text": ""
            }
          },
          "base_uri": "https://localhost:8080/",
          "height": 202
        }
      },
      "source": [
        "from google.colab import drive\n",
        "drive.mount('/content/drive/')\n",
        "\n",
        "from google.colab import files\n",
        "files.upload()\n",
        "\n",
        "!cp kaggle.json ~/.kaggle/\n",
        "!chmod 600 ~/.kaggle/kaggle.json\n",
        "\n",
        "!kaggle datasets download -d snap/amazon-fine-food-reviews\n",
        "\n",
        "!unzip amazon-fine-food-reviews.zip -d amazon_fine_food_reviews_data\n",
        "\n"
      ],
      "execution_count": 0,
      "outputs": [
        {
          "output_type": "stream",
          "text": [
            "Drive already mounted at /content/drive/; to attempt to forcibly remount, call drive.mount(\"/content/drive/\", force_remount=True).\n"
          ],
          "name": "stdout"
        },
        {
          "output_type": "display_data",
          "data": {
            "text/html": [
              "\n",
              "     <input type=\"file\" id=\"files-1c385b9d-ddec-4f80-9b9e-20deefa44b61\" name=\"files[]\" multiple disabled />\n",
              "     <output id=\"result-1c385b9d-ddec-4f80-9b9e-20deefa44b61\">\n",
              "      Upload widget is only available when the cell has been executed in the\n",
              "      current browser session. Please rerun this cell to enable.\n",
              "      </output>\n",
              "      <script src=\"/nbextensions/google.colab/files.js\"></script> "
            ],
            "text/plain": [
              "<IPython.core.display.HTML object>"
            ]
          },
          "metadata": {
            "tags": []
          }
        },
        {
          "output_type": "stream",
          "text": [
            "Saving kaggle.json to kaggle (1).json\n",
            "Downloading amazon-fine-food-reviews.zip to /content\n",
            " 90% 226M/251M [00:05<00:00, 27.1MB/s]\n",
            "100% 251M/251M [00:05<00:00, 46.3MB/s]\n",
            "Archive:  amazon-fine-food-reviews.zip\n",
            "  inflating: amazon_fine_food_reviews_data/Reviews.csv  \n",
            "  inflating: amazon_fine_food_reviews_data/database.sqlite  \n",
            "  inflating: amazon_fine_food_reviews_data/hashes.txt  \n"
          ],
          "name": "stdout"
        }
      ]
    },
    {
      "cell_type": "code",
      "metadata": {
        "id": "9pO69buUDYHz",
        "colab_type": "code",
        "outputId": "45a207a6-8613-43c6-c16e-608e46046205",
        "colab": {
          "base_uri": "https://localhost:8080/",
          "height": 272
        }
      },
      "source": [
        "# using SQLite Table to read data.\n",
        "con = sqlite3.connect('amazon_fine_food_reviews_data/database.sqlite') \n",
        "\n",
        "# filtering only positive and negative reviews i.e. \n",
        "# not taking into consideration those reviews with Score=3\n",
        "# SELECT * FROM Reviews WHERE Score != 3 LIMIT 500000, will give top 500000 data points\n",
        "# you can change the number to any other number based on your computing power\n",
        "\n",
        "# filtered_data = pd.read_sql_query(\"\"\" SELECT * FROM Reviews WHERE Score != 3 LIMIT 500000\"\"\", con) \n",
        "# for tsne assignment you can take 5k data points\n",
        "\n",
        "filtered_data = pd.read_sql_query(\"\"\" SELECT * FROM Reviews WHERE Score != 3 ORDER BY Time ASC\"\"\", con) \n",
        "\n",
        "# Give reviews with Score>3 a positive rating(1), and reviews with a score<3 a negative rating(0).\n",
        "def partition(x):\n",
        "    if x < 3:\n",
        "        return 0\n",
        "    return 1\n",
        "\n",
        "#changing reviews with score less than 3 to be positive and vice-versa\n",
        "actualScore = filtered_data['Score']\n",
        "positiveNegative = actualScore.map(partition) \n",
        "filtered_data['Score'] = positiveNegative\n",
        "print(\"Number of data points in our data\", filtered_data.shape)\n",
        "filtered_data.head(3)"
      ],
      "execution_count": 37,
      "outputs": [
        {
          "output_type": "stream",
          "text": [
            "Number of data points in our data (525814, 10)\n"
          ],
          "name": "stdout"
        },
        {
          "output_type": "execute_result",
          "data": {
            "text/html": [
              "<div>\n",
              "<style scoped>\n",
              "    .dataframe tbody tr th:only-of-type {\n",
              "        vertical-align: middle;\n",
              "    }\n",
              "\n",
              "    .dataframe tbody tr th {\n",
              "        vertical-align: top;\n",
              "    }\n",
              "\n",
              "    .dataframe thead th {\n",
              "        text-align: right;\n",
              "    }\n",
              "</style>\n",
              "<table border=\"1\" class=\"dataframe\">\n",
              "  <thead>\n",
              "    <tr style=\"text-align: right;\">\n",
              "      <th></th>\n",
              "      <th>Id</th>\n",
              "      <th>ProductId</th>\n",
              "      <th>UserId</th>\n",
              "      <th>ProfileName</th>\n",
              "      <th>HelpfulnessNumerator</th>\n",
              "      <th>HelpfulnessDenominator</th>\n",
              "      <th>Score</th>\n",
              "      <th>Time</th>\n",
              "      <th>Summary</th>\n",
              "      <th>Text</th>\n",
              "    </tr>\n",
              "  </thead>\n",
              "  <tbody>\n",
              "    <tr>\n",
              "      <th>0</th>\n",
              "      <td>150524</td>\n",
              "      <td>0006641040</td>\n",
              "      <td>ACITT7DI6IDDL</td>\n",
              "      <td>shari zychinski</td>\n",
              "      <td>0</td>\n",
              "      <td>0</td>\n",
              "      <td>1</td>\n",
              "      <td>939340800</td>\n",
              "      <td>EVERY book is educational</td>\n",
              "      <td>this witty little book makes my son laugh at l...</td>\n",
              "    </tr>\n",
              "    <tr>\n",
              "      <th>1</th>\n",
              "      <td>150501</td>\n",
              "      <td>0006641040</td>\n",
              "      <td>AJ46FKXOVC7NR</td>\n",
              "      <td>Nicholas A Mesiano</td>\n",
              "      <td>2</td>\n",
              "      <td>2</td>\n",
              "      <td>1</td>\n",
              "      <td>940809600</td>\n",
              "      <td>This whole series is great way to spend time w...</td>\n",
              "      <td>I can remember seeing the show when it aired o...</td>\n",
              "    </tr>\n",
              "    <tr>\n",
              "      <th>2</th>\n",
              "      <td>451856</td>\n",
              "      <td>B00004CXX9</td>\n",
              "      <td>AIUWLEQ1ADEG5</td>\n",
              "      <td>Elizabeth Medina</td>\n",
              "      <td>0</td>\n",
              "      <td>0</td>\n",
              "      <td>1</td>\n",
              "      <td>944092800</td>\n",
              "      <td>Entertainingl Funny!</td>\n",
              "      <td>Beetlejuice is a well written movie ..... ever...</td>\n",
              "    </tr>\n",
              "  </tbody>\n",
              "</table>\n",
              "</div>"
            ],
            "text/plain": [
              "       Id  ...                                               Text\n",
              "0  150524  ...  this witty little book makes my son laugh at l...\n",
              "1  150501  ...  I can remember seeing the show when it aired o...\n",
              "2  451856  ...  Beetlejuice is a well written movie ..... ever...\n",
              "\n",
              "[3 rows x 10 columns]"
            ]
          },
          "metadata": {
            "tags": []
          },
          "execution_count": 37
        }
      ]
    },
    {
      "cell_type": "markdown",
      "metadata": {
        "id": "Wh5RH-NsDYJJ",
        "colab_type": "text"
      },
      "source": [
        "## [2.1] Data Cleaning: Deduplication\n",
        "\n",
        "It is observed (as shown in the table below) that the reviews data had many duplicate entries. Hence it was necessary to remove duplicates in order to get unbiased results for the analysis of the data.  Following is an example:"
      ]
    },
    {
      "cell_type": "markdown",
      "metadata": {
        "id": "cKrGPQEfDYJW",
        "colab_type": "text"
      },
      "source": [
        "As it can be seen above that same user has multiple reviews with same values for HelpfulnessNumerator, HelpfulnessDenominator, Score, Time, Summary and Text and on doing analysis it was found that <br>\n",
        "<br> \n",
        "ProductId=B000HDOPZG was Loacker Quadratini Vanilla Wafer Cookies, 8.82-Ounce Packages (Pack of 8)<br>\n",
        "<br> \n",
        "ProductId=B000HDL1RQ was Loacker Quadratini Lemon Wafer Cookies, 8.82-Ounce Packages (Pack of 8) and so on<br>\n",
        "\n",
        "It was inferred after analysis that reviews with same parameters other than ProductId belonged to the same product just having different flavour or quantity. Hence in order to reduce redundancy it was decided to eliminate the rows having same parameters.<br>\n",
        "\n",
        "The method used for the same was that we first sort the data according to ProductId and then just keep the first similar product review and delelte the others. for eg. in the above just the review for ProductId=B000HDL1RQ remains. This method ensures that there is only one representative for each product and deduplication without sorting would lead to possibility of different representatives still existing for the same product."
      ]
    },
    {
      "cell_type": "code",
      "metadata": {
        "id": "eQWrz1nFDYJX",
        "colab_type": "code",
        "colab": {}
      },
      "source": [
        "#Sorting data according to ProductId in ascending order\n",
        "sorted_data=filtered_data.drop_duplicates(subset={\"UserId\",\"ProfileName\",\"Time\",\"Text\"}, keep='first', inplace=False)\n",
        "sorted_data=sorted_data[sorted_data.HelpfulnessNumerator<=sorted_data.HelpfulnessDenominator]"
      ],
      "execution_count": 0,
      "outputs": []
    },
    {
      "cell_type": "code",
      "metadata": {
        "id": "4CS7fUdLDYJd",
        "colab_type": "code",
        "outputId": "bc77922d-66c1-4245-afff-4c3f98d53935",
        "colab": {
          "base_uri": "https://localhost:8080/",
          "height": 34
        }
      },
      "source": [
        "#Deduplication of entries\n",
        "#Due to low availability of RAM I am using only 100000 datapoints for k-NN modeling\n",
        "#Clamping last 100000 datapoints to get latest reviews\n",
        "final= sorted_data.tail(100000)\n",
        "final.shape"
      ],
      "execution_count": 43,
      "outputs": [
        {
          "output_type": "execute_result",
          "data": {
            "text/plain": [
              "(100000, 10)"
            ]
          },
          "metadata": {
            "tags": []
          },
          "execution_count": 43
        }
      ]
    },
    {
      "cell_type": "code",
      "metadata": {
        "id": "Hcc_-CJMDYJk",
        "colab_type": "code",
        "outputId": "6074d8e1-b771-44d4-e3d2-3b9823b80a12",
        "colab": {
          "base_uri": "https://localhost:8080/",
          "height": 34
        }
      },
      "source": [
        "#Checking to see how much % of data still remains\n",
        "(final['Id'].size*1.0)/(filtered_data['Id'].size*1.0)*100"
      ],
      "execution_count": 44,
      "outputs": [
        {
          "output_type": "execute_result",
          "data": {
            "text/plain": [
              "19.01813188694101"
            ]
          },
          "metadata": {
            "tags": []
          },
          "execution_count": 44
        }
      ]
    },
    {
      "cell_type": "code",
      "metadata": {
        "id": "Ezix6kJ_DYJ3",
        "colab_type": "code",
        "colab": {}
      },
      "source": [
        ""
      ],
      "execution_count": 0,
      "outputs": []
    },
    {
      "cell_type": "code",
      "metadata": {
        "id": "yWsVhvArDYJ9",
        "colab_type": "code",
        "outputId": "65e2dfb0-6388-4a33-8707-463e8ca936a4",
        "colab": {
          "base_uri": "https://localhost:8080/",
          "height": 87
        }
      },
      "source": [
        "#Before starting the next phase of preprocessing lets see the number of entries left\n",
        "print(final.shape)\n",
        "\n",
        "#How many positive and negative reviews are present in our dataset?\n",
        "final['Score'].value_counts()"
      ],
      "execution_count": 45,
      "outputs": [
        {
          "output_type": "stream",
          "text": [
            "(100000, 10)\n"
          ],
          "name": "stdout"
        },
        {
          "output_type": "execute_result",
          "data": {
            "text/plain": [
              "1    82609\n",
              "0    17391\n",
              "Name: Score, dtype: int64"
            ]
          },
          "metadata": {
            "tags": []
          },
          "execution_count": 45
        }
      ]
    },
    {
      "cell_type": "markdown",
      "metadata": {
        "id": "AoLxCQ-VDYKI",
        "colab_type": "text"
      },
      "source": [
        "#  [3] Preprocessing"
      ]
    },
    {
      "cell_type": "markdown",
      "metadata": {
        "id": "P7Zq_ToqDYKJ",
        "colab_type": "text"
      },
      "source": [
        "## [3.1].  Preprocessing Review Text\n",
        "\n",
        "Now that we have finished deduplication our data requires some preprocessing before we go on further with analysis and making the prediction model.\n",
        "\n",
        "Hence in the Preprocessing phase we do the following in the order below:-\n",
        "\n",
        "1. Begin by removing the html tags\n",
        "2. Remove any punctuations or limited set of special characters like , or . or # etc.\n",
        "3. Check if the word is made up of english letters and is not alpha-numeric\n",
        "4. Check to see if the length of the word is greater than 2 (as it was researched that there is no adjective in 2-letters)\n",
        "5. Convert the word to lowercase\n",
        "6. Remove Stopwords\n",
        "7. Finally Snowball Stemming the word (it was obsereved to be better than Porter Stemming)<br>\n",
        "\n",
        "After which we collect the words used to describe positive and negative reviews"
      ]
    },
    {
      "cell_type": "code",
      "metadata": {
        "id": "3jw5g5yEDYKL",
        "colab_type": "code",
        "outputId": "d1c4f49e-cbd1-4bac-acce-0965305c6450",
        "colab": {
          "base_uri": "https://localhost:8080/",
          "height": 177
        }
      },
      "source": [
        "# printing some random reviews\n",
        "sent_0 = final['Text'].values[0]\n",
        "print(sent_0)\n",
        "print(\"=\"*50)\n",
        "\n",
        "sent_1000 = final['Text'].values[1000]\n",
        "print(sent_1000)\n",
        "print(\"=\"*50)\n",
        "\n",
        "sent_1500 = final['Text'].values[1500]\n",
        "print(sent_1500)\n",
        "print(\"=\"*50)\n",
        "\n",
        "sent_4900 = final['Text'].values[4900]\n",
        "print(sent_4900)\n",
        "print(\"=\"*50)"
      ],
      "execution_count": 46,
      "outputs": [
        {
          "output_type": "stream",
          "text": [
            "The Van Ness food mat is a great product.  The edges are raised to prevent water leaks onto your floor/rug, and the material is very easy to clean. I also found that the size is perfect for an automatic feeder, and a decent size water bowl. FIVE STARS!\n",
            "==================================================\n",
            "A meat stick that tastes like Ham & an American cheese food-type stick.<br />I prefer the Ham flavor over the oh-so-salty beef stick.<br />Great to fight hunger pains while biking or backpacking or waiting for your fish to bite your hook.\n",
            "==================================================\n",
            "Great Coffee at a great price.I normally ground it finer and use a percolator which makes it taste better than the regular coffee machines.<br />Too bad amazon stopped selling this item\n",
            "==================================================\n",
            "Due to our cooking habits we use a lot of avocados in preparing our meals.  From Mexican food to salads and sandwiches and of course Guacamole Dip, they are an important part of our dietary intake.  The Guacamole dip is a favorite in our household and my wife has at least six different recipes she prepares it with.  We do though use and try out various prepared mixes such as this McCormick brand...which by the way, is one of our favorites. This adds variety and we do love variety! I can tell you right now that if I were grading this product on quality and eating enjoyment I would give it five stars in a heartbeat.<br /><br />Unfortunately, I am giving this particular one a one star review and if it were possible, I would give it less.  Did you read the price on this thing!  I must tell you that the first reviewer here saved me a bunch of coin and a major temper meltdown.  Thank you Dutch for pointing the price of this product out to me.  I was actually ready to hit the purchase button on this one after I had added it to my shopping cart.  Thank goodness I had second thoughts and went back and read the review.  This product, when we purchase it at or local store cost around one dollar.  This is a somewhat reasonable price.  Did you realize that these folks are selling ONE PACKAGE (ONE OZ) for a total of $6.00!  Either this seller is trying a big time rip off or there has been a major typographical error here.  In either case there is NO WAY I am going to plunk out that much money for this stuff...as good as it is!<br /><br />Anyway, the mix itself is quite good.  We use a lot of McCormick products and have yet to find one we are dissatisfied with.  But the price here is absolutely outrageous to the point of being offensive.<br /><br />End of review but as long as we are talking about saving money.....<br /><br />Did you folks know you can freeze avocados?  Yup, for dip and spreads freezing these things works perfectly.  I am not sure how things are in your part of the country, but here in our little part of the world the price of avocados goes through wild fluctuations.  I have quite often seen them selling for $1.50 apiece!  No there is no way that I am going to pay that much for one of these things.  On the other hand, we often, for one reason or another, find these things relatively dirt cheap.  I just purchased a whole bunch of the things for .32 cents apiece.<br /><br />When we find these on sale like this be buy a great number of them.  We take them home, let them ripen to our taste, wash and dry them and then stick them in freezer bags...usually three our four or our family.  When we want to whip up a batch of dip or spread, we simply take them out of the freeze, let them thaw and we are in business.  After they have been frozen the skins simply slip right off and you can mush them up quite easily.  This dose not work if you like sliced avocados for salads or sandwiches as they are too soft and mushy. On the other hand, it makes great dip and spread.  We cannot tell the difference in the flavor of the frozen ones over the fresh.<br /><br />Don Blankenship<br />The Ozarks\n",
            "==================================================\n"
          ],
          "name": "stdout"
        }
      ]
    },
    {
      "cell_type": "code",
      "metadata": {
        "id": "WloiOvL3DYKT",
        "colab_type": "code",
        "outputId": "f5d67438-bd13-4b41-999b-094320e5b3bc",
        "colab": {
          "base_uri": "https://localhost:8080/",
          "height": 54
        }
      },
      "source": [
        "# remove urls from text python: https://stackoverflow.com/a/40823105/4084039\n",
        "sent_0 = re.sub(r\"http\\S+\", \"\", sent_0)\n",
        "sent_1000 = re.sub(r\"http\\S+\", \"\", sent_1000)\n",
        "sent_150 = re.sub(r\"http\\S+\", \"\", sent_1500)\n",
        "sent_4900 = re.sub(r\"http\\S+\", \"\", sent_4900)\n",
        "\n",
        "print(sent_0)"
      ],
      "execution_count": 47,
      "outputs": [
        {
          "output_type": "stream",
          "text": [
            "The Van Ness food mat is a great product.  The edges are raised to prevent water leaks onto your floor/rug, and the material is very easy to clean. I also found that the size is perfect for an automatic feeder, and a decent size water bowl. FIVE STARS!\n"
          ],
          "name": "stdout"
        }
      ]
    },
    {
      "cell_type": "code",
      "metadata": {
        "id": "SzCCi9tPDYKf",
        "colab_type": "code",
        "outputId": "271b488f-f104-43ec-a934-91c24ab5fae5",
        "colab": {
          "base_uri": "https://localhost:8080/",
          "height": 159
        }
      },
      "source": [
        "# https://stackoverflow.com/questions/16206380/python-beautifulsoup-how-to-remove-all-tags-from-an-element\n",
        "from bs4 import BeautifulSoup\n",
        "\n",
        "soup = BeautifulSoup(sent_0, 'lxml')\n",
        "text = soup.get_text()\n",
        "print(text)\n",
        "print(\"=\"*50)\n",
        "\n",
        "soup = BeautifulSoup(sent_1000, 'lxml')\n",
        "text = soup.get_text()\n",
        "print(text)\n",
        "print(\"=\"*50)\n",
        "\n",
        "soup = BeautifulSoup(sent_1500, 'lxml')\n",
        "text = soup.get_text()\n",
        "print(text)\n",
        "print(\"=\"*50)\n",
        "\n",
        "soup = BeautifulSoup(sent_4900, 'lxml')\n",
        "text = soup.get_text()\n",
        "print(text)"
      ],
      "execution_count": 48,
      "outputs": [
        {
          "output_type": "stream",
          "text": [
            "The Van Ness food mat is a great product.  The edges are raised to prevent water leaks onto your floor/rug, and the material is very easy to clean. I also found that the size is perfect for an automatic feeder, and a decent size water bowl. FIVE STARS!\n",
            "==================================================\n",
            "A meat stick that tastes like Ham & an American cheese food-type stick.I prefer the Ham flavor over the oh-so-salty beef stick.Great to fight hunger pains while biking or backpacking or waiting for your fish to bite your hook.\n",
            "==================================================\n",
            "Great Coffee at a great price.I normally ground it finer and use a percolator which makes it taste better than the regular coffee machines.Too bad amazon stopped selling this item\n",
            "==================================================\n",
            "Due to our cooking habits we use a lot of avocados in preparing our meals.  From Mexican food to salads and sandwiches and of course Guacamole Dip, they are an important part of our dietary intake.  The Guacamole dip is a favorite in our household and my wife has at least six different recipes she prepares it with.  We do though use and try out various prepared mixes such as this McCormick brand...which by the way, is one of our favorites. This adds variety and we do love variety! I can tell you right now that if I were grading this product on quality and eating enjoyment I would give it five stars in a heartbeat.Unfortunately, I am giving this particular one a one star review and if it were possible, I would give it less.  Did you read the price on this thing!  I must tell you that the first reviewer here saved me a bunch of coin and a major temper meltdown.  Thank you Dutch for pointing the price of this product out to me.  I was actually ready to hit the purchase button on this one after I had added it to my shopping cart.  Thank goodness I had second thoughts and went back and read the review.  This product, when we purchase it at or local store cost around one dollar.  This is a somewhat reasonable price.  Did you realize that these folks are selling ONE PACKAGE (ONE OZ) for a total of $6.00!  Either this seller is trying a big time rip off or there has been a major typographical error here.  In either case there is NO WAY I am going to plunk out that much money for this stuff...as good as it is!Anyway, the mix itself is quite good.  We use a lot of McCormick products and have yet to find one we are dissatisfied with.  But the price here is absolutely outrageous to the point of being offensive.End of review but as long as we are talking about saving money.....Did you folks know you can freeze avocados?  Yup, for dip and spreads freezing these things works perfectly.  I am not sure how things are in your part of the country, but here in our little part of the world the price of avocados goes through wild fluctuations.  I have quite often seen them selling for $1.50 apiece!  No there is no way that I am going to pay that much for one of these things.  On the other hand, we often, for one reason or another, find these things relatively dirt cheap.  I just purchased a whole bunch of the things for .32 cents apiece.When we find these on sale like this be buy a great number of them.  We take them home, let them ripen to our taste, wash and dry them and then stick them in freezer bags...usually three our four or our family.  When we want to whip up a batch of dip or spread, we simply take them out of the freeze, let them thaw and we are in business.  After they have been frozen the skins simply slip right off and you can mush them up quite easily.  This dose not work if you like sliced avocados for salads or sandwiches as they are too soft and mushy. On the other hand, it makes great dip and spread.  We cannot tell the difference in the flavor of the frozen ones over the fresh.Don BlankenshipThe Ozarks\n"
          ],
          "name": "stdout"
        }
      ]
    },
    {
      "cell_type": "code",
      "metadata": {
        "id": "vQ2mdt2jDYKo",
        "colab_type": "code",
        "colab": {}
      },
      "source": [
        "# https://stackoverflow.com/a/47091490/4084039\n",
        "import re\n",
        "\n",
        "def decontracted(phrase):\n",
        "    # specific\n",
        "    phrase = re.sub(r\"won't\", \"will not\", phrase)\n",
        "    phrase = re.sub(r\"can\\'t\", \"can not\", phrase)\n",
        "\n",
        "    # general\n",
        "    phrase = re.sub(r\"n\\'t\", \" not\", phrase)\n",
        "    phrase = re.sub(r\"\\'re\", \" are\", phrase)\n",
        "    phrase = re.sub(r\"\\'s\", \" is\", phrase)\n",
        "    phrase = re.sub(r\"\\'d\", \" would\", phrase)\n",
        "    phrase = re.sub(r\"\\'ll\", \" will\", phrase)\n",
        "    phrase = re.sub(r\"\\'t\", \" not\", phrase)\n",
        "    phrase = re.sub(r\"\\'ve\", \" have\", phrase)\n",
        "    phrase = re.sub(r\"\\'m\", \" am\", phrase)\n",
        "    return phrase"
      ],
      "execution_count": 0,
      "outputs": []
    },
    {
      "cell_type": "code",
      "metadata": {
        "id": "GD5_8P5jDYKr",
        "colab_type": "code",
        "outputId": "6349b760-605f-422f-a4e8-1763fffea09f",
        "colab": {
          "base_uri": "https://localhost:8080/",
          "height": 72
        }
      },
      "source": [
        "sent_1500 = decontracted(sent_1500)\n",
        "print(sent_1500)\n",
        "print(\"=\"*50)"
      ],
      "execution_count": 50,
      "outputs": [
        {
          "output_type": "stream",
          "text": [
            "Great Coffee at a great price.I normally ground it finer and use a percolator which makes it taste better than the regular coffee machines.<br />Too bad amazon stopped selling this item\n",
            "==================================================\n"
          ],
          "name": "stdout"
        }
      ]
    },
    {
      "cell_type": "code",
      "metadata": {
        "id": "qTHM_mDnDYKx",
        "colab_type": "code",
        "outputId": "dd8cd1f0-b0d6-4e14-bd5e-eef96a5e5007",
        "colab": {
          "base_uri": "https://localhost:8080/",
          "height": 54
        }
      },
      "source": [
        "#remove words with numbers python: https://stackoverflow.com/a/18082370/4084039\n",
        "sent_0 = re.sub(\"\\S*\\d\\S*\", \"\", sent_0).strip()\n",
        "print(sent_0)"
      ],
      "execution_count": 51,
      "outputs": [
        {
          "output_type": "stream",
          "text": [
            "The Van Ness food mat is a great product.  The edges are raised to prevent water leaks onto your floor/rug, and the material is very easy to clean. I also found that the size is perfect for an automatic feeder, and a decent size water bowl. FIVE STARS!\n"
          ],
          "name": "stdout"
        }
      ]
    },
    {
      "cell_type": "code",
      "metadata": {
        "id": "pXhZUMDzDYK6",
        "colab_type": "code",
        "outputId": "9557c449-0083-45d5-f4bf-94d608a92703",
        "colab": {
          "base_uri": "https://localhost:8080/",
          "height": 54
        }
      },
      "source": [
        "#remove spacial character: https://stackoverflow.com/a/5843547/4084039\n",
        "sent_1500 = re.sub('[^A-Za-z0-9]+', ' ', sent_1500)\n",
        "print(sent_1500)"
      ],
      "execution_count": 52,
      "outputs": [
        {
          "output_type": "stream",
          "text": [
            "Great Coffee at a great price I normally ground it finer and use a percolator which makes it taste better than the regular coffee machines br Too bad amazon stopped selling this item\n"
          ],
          "name": "stdout"
        }
      ]
    },
    {
      "cell_type": "code",
      "metadata": {
        "id": "vZJNhKvKDYLA",
        "colab_type": "code",
        "colab": {}
      },
      "source": [
        "# https://gist.github.com/sebleier/554280\n",
        "# we are removing the words from the stop words list: 'no', 'nor', 'not'\n",
        "# <br /><br /> ==> after the above steps, we are getting \"br br\"\n",
        "# we are including them into stop words list\n",
        "# instead of <br /> if we have <br/> these tags would have revmoved in the 1st step\n",
        "\n",
        "stopwords= set(['br', 'the', 'i', 'me', 'my', 'myself', 'we', 'our', 'ours', 'ourselves', 'you', \"you're\", \"you've\",\\\n",
        "            \"you'll\", \"you'd\", 'your', 'yours', 'yourself', 'yourselves', 'he', 'him', 'his', 'himself', \\\n",
        "            'she', \"she's\", 'her', 'hers', 'herself', 'it', \"it's\", 'its', 'itself', 'they', 'them', 'their',\\\n",
        "            'theirs', 'themselves', 'what', 'which', 'who', 'whom', 'this', 'that', \"that'll\", 'these', 'those', \\\n",
        "            'am', 'is', 'are', 'was', 'were', 'be', 'been', 'being', 'have', 'has', 'had', 'having', 'do', 'does', \\\n",
        "            'did', 'doing', 'a', 'an', 'the', 'and', 'but', 'if', 'or', 'because', 'as', 'until', 'while', 'of', \\\n",
        "            'at', 'by', 'for', 'with', 'about', 'against', 'between', 'into', 'through', 'during', 'before', 'after',\\\n",
        "            'above', 'below', 'to', 'from', 'up', 'down', 'in', 'out', 'on', 'off', 'over', 'under', 'again', 'further',\\\n",
        "            'then', 'once', 'here', 'there', 'when', 'where', 'why', 'how', 'all', 'any', 'both', 'each', 'few', 'more',\\\n",
        "            'most', 'other', 'some', 'such', 'only', 'own', 'same', 'so', 'than', 'too', 'very', \\\n",
        "            's', 't', 'can', 'will', 'just', 'don', \"don't\", 'should', \"should've\", 'now', 'd', 'll', 'm', 'o', 're', \\\n",
        "            've', 'y', 'ain', 'aren', \"aren't\", 'couldn', \"couldn't\", 'didn', \"didn't\", 'doesn', \"doesn't\", 'hadn',\\\n",
        "            \"hadn't\", 'hasn', \"hasn't\", 'haven', \"haven't\", 'isn', \"isn't\", 'ma', 'mightn', \"mightn't\", 'mustn',\\\n",
        "            \"mustn't\", 'needn', \"needn't\", 'shan', \"shan't\", 'shouldn', \"shouldn't\", 'wasn', \"wasn't\", 'weren', \"weren't\", \\\n",
        "            'won', \"won't\", 'wouldn', \"wouldn't\"])"
      ],
      "execution_count": 0,
      "outputs": []
    },
    {
      "cell_type": "code",
      "metadata": {
        "id": "1Rd8zIc8DYLF",
        "colab_type": "code",
        "outputId": "d785112b-d00d-4f1f-c94f-255f77ec1730",
        "colab": {
          "base_uri": "https://localhost:8080/",
          "height": 34
        }
      },
      "source": [
        "# Combining all the above stundents \n",
        "from tqdm import tqdm\n",
        "preprocessed_reviews = []\n",
        "# tqdm is for printing the status bar\n",
        "for sentance in tqdm(final['Text'].values):\n",
        "    sentance = re.sub(r\"http\\S+\", \"\", sentance)\n",
        "    sentance = BeautifulSoup(sentance, 'lxml').get_text()\n",
        "    sentance = decontracted(sentance)\n",
        "    sentance = re.sub(\"\\S*\\d\\S*\", \"\", sentance).strip()\n",
        "    sentance = re.sub('[^A-Za-z]+', ' ', sentance)\n",
        "    # https://gist.github.com/sebleier/554280\n",
        "    sentance = ' '.join(e.lower() for e in sentance.split() if e.lower() not in stopwords)\n",
        "    preprocessed_reviews.append(sentance.strip())"
      ],
      "execution_count": 54,
      "outputs": [
        {
          "output_type": "stream",
          "text": [
            "100%|██████████| 100000/100000 [00:34<00:00, 2911.98it/s]\n"
          ],
          "name": "stderr"
        }
      ]
    },
    {
      "cell_type": "code",
      "metadata": {
        "id": "YBWzfi2NDYLL",
        "colab_type": "code",
        "outputId": "871df197-2f9e-488a-81b8-14c42d083078",
        "colab": {
          "base_uri": "https://localhost:8080/",
          "height": 34
        }
      },
      "source": [
        "preprocessed_reviews[1500]"
      ],
      "execution_count": 55,
      "outputs": [
        {
          "output_type": "execute_result",
          "data": {
            "text/plain": [
              "'great coffee great price normally ground finer use percolator makes taste better regular coffee machines bad amazon stopped selling item'"
            ]
          },
          "metadata": {
            "tags": []
          },
          "execution_count": 55
        }
      ]
    },
    {
      "cell_type": "code",
      "metadata": {
        "id": "6h177V3w8zv-",
        "colab_type": "code",
        "colab": {}
      },
      "source": [
        ""
      ],
      "execution_count": 0,
      "outputs": []
    },
    {
      "cell_type": "code",
      "metadata": {
        "id": "4Zaho3DL80dO",
        "colab_type": "code",
        "colab": {}
      },
      "source": [
        ""
      ],
      "execution_count": 0,
      "outputs": []
    },
    {
      "cell_type": "code",
      "metadata": {
        "id": "crapEb5I80YF",
        "colab_type": "code",
        "colab": {}
      },
      "source": [
        ""
      ],
      "execution_count": 0,
      "outputs": []
    },
    {
      "cell_type": "code",
      "metadata": {
        "id": "NpcBB5Na8zq2",
        "colab_type": "code",
        "colab": {}
      },
      "source": [
        ""
      ],
      "execution_count": 0,
      "outputs": []
    },
    {
      "cell_type": "code",
      "metadata": {
        "id": "FjtwZCRq8zlZ",
        "colab_type": "code",
        "colab": {}
      },
      "source": [
        ""
      ],
      "execution_count": 0,
      "outputs": []
    },
    {
      "cell_type": "code",
      "metadata": {
        "id": "4Ci5ETsy8zey",
        "colab_type": "code",
        "colab": {}
      },
      "source": [
        ""
      ],
      "execution_count": 0,
      "outputs": []
    },
    {
      "cell_type": "markdown",
      "metadata": {
        "id": "jDp9oUXaDYLZ",
        "colab_type": "text"
      },
      "source": [
        "<h2><font color='red'>[3.2] Preprocessing Review Summary</font></h2>"
      ]
    },
    {
      "cell_type": "code",
      "metadata": {
        "id": "G9NmSQw9DYLa",
        "colab_type": "code",
        "colab": {}
      },
      "source": [
        "## Similartly you can do preprocessing for review summary also."
      ],
      "execution_count": 0,
      "outputs": []
    },
    {
      "cell_type": "markdown",
      "metadata": {
        "id": "vSmZvNNZDYLi",
        "colab_type": "text"
      },
      "source": [
        "# [4] Featurization"
      ]
    },
    {
      "cell_type": "markdown",
      "metadata": {
        "id": "zZs1QbloDYLk",
        "colab_type": "text"
      },
      "source": [
        "## [4.1] BAG OF WORDS"
      ]
    },
    {
      "cell_type": "code",
      "metadata": {
        "id": "KGkxITLpDYLl",
        "colab_type": "code",
        "outputId": "a2604f7c-e502-41b2-d34d-9eb01087bc4f",
        "colab": {
          "base_uri": "https://localhost:8080/",
          "height": 98
        }
      },
      "source": [
        "#BoW\n",
        "count_vect = CountVectorizer() #in scikit-learn\n",
        "count_vect.fit(preprocessed_reviews)\n",
        "print(\"some feature names \", count_vect.get_feature_names()[:10])\n",
        "print('='*50)\n",
        "\n",
        "final_counts = count_vect.transform(preprocessed_reviews)\n",
        "print(\"the type of count vectorizer \",type(final_counts))\n",
        "print(\"the shape of out text BOW vectorizer \",final_counts.get_shape())\n",
        "print(\"the number of unique words \", final_counts.get_shape()[1])"
      ],
      "execution_count": 0,
      "outputs": [
        {
          "output_type": "stream",
          "text": [
            "some feature names  ['aa', 'aahhhs', 'aback', 'abandon', 'abates', 'abbott', 'abby', 'abdominal', 'abiding', 'ability']\n",
            "==================================================\n",
            "the type of count vectorizer  <class 'scipy.sparse.csr.csr_matrix'>\n",
            "the shape of out text BOW vectorizer  (4986, 12997)\n",
            "the number of unique words  12997\n"
          ],
          "name": "stdout"
        }
      ]
    },
    {
      "cell_type": "markdown",
      "metadata": {
        "id": "_pcNUauJDYLr",
        "colab_type": "text"
      },
      "source": [
        "## [4.2] Bi-Grams and n-Grams."
      ]
    },
    {
      "cell_type": "code",
      "metadata": {
        "id": "cM2SIgUvDYLt",
        "colab_type": "code",
        "outputId": "928ad310-f0ff-42ce-dbc2-018bc068bc92",
        "colab": {
          "base_uri": "https://localhost:8080/",
          "height": 66
        }
      },
      "source": [
        "#bi-gram, tri-gram and n-gram\n",
        "\n",
        "#removing stop words like \"not\" should be avoided before building n-grams\n",
        "# count_vect = CountVectorizer(ngram_range=(1,2))\n",
        "# please do read the CountVectorizer documentation http://scikit-learn.org/stable/modules/generated/sklearn.feature_extraction.text.CountVectorizer.html\n",
        "\n",
        "# you can choose these numebrs min_df=10, max_features=5000, of your choice\n",
        "count_vect = CountVectorizer(ngram_range=(1,2), min_df=10, max_features=5000)\n",
        "final_bigram_counts = count_vect.fit_transform(preprocessed_reviews)\n",
        "print(\"the type of count vectorizer \",type(final_bigram_counts))\n",
        "print(\"the shape of out text BOW vectorizer \",final_bigram_counts.get_shape())\n",
        "print(\"the number of unique words including both unigrams and bigrams \", final_bigram_counts.get_shape()[1])"
      ],
      "execution_count": 0,
      "outputs": [
        {
          "output_type": "stream",
          "text": [
            "the type of count vectorizer  <class 'scipy.sparse.csr.csr_matrix'>\n",
            "the shape of out text BOW vectorizer  (4986, 3144)\n",
            "the number of unique words including both unigrams and bigrams  3144\n"
          ],
          "name": "stdout"
        }
      ]
    },
    {
      "cell_type": "markdown",
      "metadata": {
        "id": "6bReCy__DYLx",
        "colab_type": "text"
      },
      "source": [
        "## [4.3] TF-IDF"
      ]
    },
    {
      "cell_type": "code",
      "metadata": {
        "id": "hfpsAqaXDYLy",
        "colab_type": "code",
        "outputId": "a4584b52-5e0a-49d5-a57b-cc94c1888437",
        "colab": {
          "base_uri": "https://localhost:8080/",
          "height": 118
        }
      },
      "source": [
        "tf_idf_vect = TfidfVectorizer(ngram_range=(1,2), min_df=10)\n",
        "tf_idf_vect.fit(preprocessed_reviews)\n",
        "print(\"some sample features(unique words in the corpus)\",tf_idf_vect.get_feature_names()[0:10])\n",
        "print('='*50)\n",
        "\n",
        "final_tf_idf = tf_idf_vect.transform(preprocessed_reviews)\n",
        "print(\"the type of count vectorizer \",type(final_tf_idf))\n",
        "print(\"the shape of out text TFIDF vectorizer \",final_tf_idf.get_shape())\n",
        "print(\"the number of unique words including both unigrams and bigrams \", final_tf_idf.get_shape()[1])"
      ],
      "execution_count": 0,
      "outputs": [
        {
          "output_type": "stream",
          "text": [
            "some sample features(unique words in the corpus) ['ability', 'able', 'able find', 'able get', 'absolute', 'absolutely', 'absolutely delicious', 'absolutely love', 'absolutely no', 'according']\n",
            "==================================================\n",
            "the type of count vectorizer  <class 'scipy.sparse.csr.csr_matrix'>\n",
            "the shape of out text TFIDF vectorizer  (4986, 3144)\n",
            "the number of unique words including both unigrams and bigrams  3144\n"
          ],
          "name": "stdout"
        }
      ]
    },
    {
      "cell_type": "markdown",
      "metadata": {
        "id": "9kpriSSvDYL8",
        "colab_type": "text"
      },
      "source": [
        "## [4.4] Word2Vec"
      ]
    },
    {
      "cell_type": "code",
      "metadata": {
        "id": "zm7QLZ2jDYL-",
        "colab_type": "code",
        "colab": {}
      },
      "source": [
        "# Train your own Word2Vec model using your own text corpus\n",
        "i=0\n",
        "list_of_sentance=[]\n",
        "for sentance in preprocessed_reviews:\n",
        "    list_of_sentance.append(sentance.split())"
      ],
      "execution_count": 0,
      "outputs": []
    },
    {
      "cell_type": "code",
      "metadata": {
        "scrolled": true,
        "id": "mLAtDE_UDYMF",
        "colab_type": "code",
        "outputId": "4c437df3-1cba-415d-ef67-483cd146fcc8",
        "colab": {
          "base_uri": "https://localhost:8080/",
          "height": 86
        }
      },
      "source": [
        "# Using Google News Word2Vectors\n",
        "\n",
        "# in this project we are using a pretrained model by google\n",
        "# its 3.3G file, once you load this into your memory \n",
        "# it occupies ~9Gb, so please do this step only if you have >12G of ram\n",
        "# we will provide a pickle file wich contains a dict , \n",
        "# and it contains all our courpus words as keys and  model[word] as values\n",
        "# To use this code-snippet, download \"GoogleNews-vectors-negative300.bin\" \n",
        "# from https://drive.google.com/file/d/0B7XkCwpI5KDYNlNUTTlSS21pQmM/edit\n",
        "# it's 1.9GB in size.\n",
        "\n",
        "\n",
        "# http://kavita-ganesan.com/gensim-word2vec-tutorial-starter-code/#.W17SRFAzZPY\n",
        "# you can comment this whole cell\n",
        "# or change these varible according to your need\n",
        "\n",
        "is_your_ram_gt_16g=False\n",
        "want_to_use_google_w2v = False\n",
        "want_to_train_w2v = True\n",
        "\n",
        "if want_to_train_w2v:\n",
        "    # min_count = 5 considers only words that occured atleast 5 times\n",
        "    w2v_model=Word2Vec(list_of_sentance,min_count=5,size=50, workers=4)\n",
        "    print(w2v_model.wv.most_similar('great'))\n",
        "    print('='*50)\n",
        "    print(w2v_model.wv.most_similar('worst'))\n",
        "    \n",
        "elif want_to_use_google_w2v and is_your_ram_gt_16g:\n",
        "    if os.path.isfile('GoogleNews-vectors-negative300.bin'):\n",
        "        w2v_model=KeyedVectors.load_word2vec_format('GoogleNews-vectors-negative300.bin', binary=True)\n",
        "        print(w2v_model.wv.most_similar('great'))\n",
        "        print(w2v_model.wv.most_similar('worst'))\n",
        "    else:\n",
        "        print(\"you don't have gogole's word2vec file, keep want_to_train_w2v = True, to train your own w2v \")"
      ],
      "execution_count": 0,
      "outputs": [
        {
          "output_type": "stream",
          "text": [
            "[('snack', 0.9952415227890015), ('calorie', 0.9937836527824402), ('crispy', 0.99375981092453), ('baked', 0.993651270866394), ('alternative', 0.9934694766998291), ('original', 0.993158757686615), ('popchips', 0.9929398894309998), ('amazing', 0.9927828311920166), ('awesome', 0.9927470684051514), ('especially', 0.9927163124084473)]\n",
            "==================================================\n",
            "[('note', 0.9991256594657898), ('served', 0.9991033673286438), ('wife', 0.999095618724823), ('pleasure', 0.9990737438201904), ('types', 0.9990304112434387), ('kinds', 0.9990216493606567), ('opinion', 0.9990191459655762), ('varieties', 0.9989884495735168), ('house', 0.9989405870437622), ('hands', 0.9989346861839294)]\n"
          ],
          "name": "stdout"
        }
      ]
    },
    {
      "cell_type": "code",
      "metadata": {
        "id": "hTiK-q0NDYMN",
        "colab_type": "code",
        "outputId": "93e14688-c00e-4918-c9f3-11a34fedd54e",
        "colab": {
          "base_uri": "https://localhost:8080/",
          "height": 70
        }
      },
      "source": [
        "w2v_words = list(w2v_model.wv.vocab)\n",
        "print(\"number of words that occured minimum 5 times \",len(w2v_words))\n",
        "print(\"sample words \", w2v_words[0:50])"
      ],
      "execution_count": 0,
      "outputs": [
        {
          "output_type": "stream",
          "text": [
            "number of words that occured minimum 5 times  3817\n",
            "sample words  ['really', 'good', 'idea', 'final', 'product', 'outstanding', 'use', 'car', 'window', 'everybody', 'asks', 'bought', 'made', 'two', 'thumbs', 'received', 'shipment', 'could', 'hardly', 'wait', 'try', 'love', 'call', 'instead', 'removed', 'easily', 'daughter', 'designed', 'printed', 'windows', 'beautifully', 'shop', 'program', 'going', 'lot', 'fun', 'everywhere', 'like', 'tv', 'computer', 'mae', 'ploy', 'sweet', 'chili', 'sauce', 'becoming', 'standard', 'condiment', 'dinner', 'table']\n"
          ],
          "name": "stdout"
        }
      ]
    },
    {
      "cell_type": "markdown",
      "metadata": {
        "id": "cse_ZlapDYMX",
        "colab_type": "text"
      },
      "source": [
        "## [4.4.1] Converting text into vectors using Avg W2V, TFIDF-W2V"
      ]
    },
    {
      "cell_type": "markdown",
      "metadata": {
        "id": "3H0BUlYEDYMY",
        "colab_type": "text"
      },
      "source": [
        "#### [4.4.1.1] Avg W2v"
      ]
    },
    {
      "cell_type": "code",
      "metadata": {
        "id": "czBD_JcEDYMY",
        "colab_type": "code",
        "outputId": "c094cfe3-e1d2-469e-e033-df71ce56e4d8",
        "colab": {
          "base_uri": "https://localhost:8080/",
          "height": 66
        }
      },
      "source": [
        "# average Word2Vec\n",
        "# compute average word2vec for each review.\n",
        "sent_vectors = []; # the avg-w2v for each sentence/review is stored in this list\n",
        "for sent in tqdm(list_of_sentance): # for each review/sentence\n",
        "    sent_vec = np.zeros(50) # as word vectors are of zero length 50, you might need to change this to 300 if you use google's w2v\n",
        "    cnt_words =0; # num of words with a valid vector in the sentence/review\n",
        "    for word in sent: # for each word in a review/sentence\n",
        "        if word in w2v_words:\n",
        "            vec = w2v_model.wv[word]\n",
        "            sent_vec += vec\n",
        "            cnt_words += 1\n",
        "    if cnt_words != 0:\n",
        "        sent_vec /= cnt_words\n",
        "    sent_vectors.append(sent_vec)\n",
        "print(len(sent_vectors))\n",
        "print(len(sent_vectors[0]))"
      ],
      "execution_count": 0,
      "outputs": [
        {
          "output_type": "stream",
          "text": [
            "100%|██████████| 4986/4986 [00:03<00:00, 1286.18it/s]"
          ],
          "name": "stderr"
        },
        {
          "output_type": "stream",
          "text": [
            "4986\n",
            "50\n"
          ],
          "name": "stdout"
        },
        {
          "output_type": "stream",
          "text": [
            "\n"
          ],
          "name": "stderr"
        }
      ]
    },
    {
      "cell_type": "markdown",
      "metadata": {
        "id": "ZKhyFyhmDYMd",
        "colab_type": "text"
      },
      "source": [
        "#### [4.4.1.2] TFIDF weighted W2v"
      ]
    },
    {
      "cell_type": "code",
      "metadata": {
        "id": "2UmpXW92DYMe",
        "colab_type": "code",
        "colab": {}
      },
      "source": [
        "# S = [\"abc def pqr\", \"def def def abc\", \"pqr pqr def\"]\n",
        "model = TfidfVectorizer()\n",
        "tf_idf_matrix = model.fit_transform(preprocessed_reviews)\n",
        "# we are converting a dictionary with word as a key, and the idf as a value\n",
        "dictionary = dict(zip(model.get_feature_names(), list(model.idf_)))"
      ],
      "execution_count": 0,
      "outputs": []
    },
    {
      "cell_type": "code",
      "metadata": {
        "scrolled": true,
        "id": "yJgfDSnUDYMk",
        "colab_type": "code",
        "outputId": "954d7cd2-8fdf-4179-8c8c-7186ed7232d5",
        "colab": {
          "base_uri": "https://localhost:8080/",
          "height": 33
        }
      },
      "source": [
        "# TF-IDF weighted Word2Vec\n",
        "tfidf_feat = model.get_feature_names() # tfidf words/col-names\n",
        "# final_tf_idf is the sparse matrix with row= sentence, col=word and cell_val = tfidf\n",
        "\n",
        "tfidf_sent_vectors = []; # the tfidf-w2v for each sentence/review is stored in this list\n",
        "row=0;\n",
        "for sent in tqdm(list_of_sentance): # for each review/sentence \n",
        "    sent_vec = np.zeros(50) # as word vectors are of zero length\n",
        "    weight_sum =0; # num of words with a valid vector in the sentence/review\n",
        "    for word in sent: # for each word in a review/sentence\n",
        "        if word in w2v_words and word in tfidf_feat:\n",
        "            vec = w2v_model.wv[word]\n",
        "#             tf_idf = tf_idf_matrix[row, tfidf_feat.index(word)]\n",
        "            # to reduce the computation we are \n",
        "            # dictionary[word] = idf value of word in whole courpus\n",
        "            # sent.count(word) = tf valeus of word in this review\n",
        "            tf_idf = dictionary[word]*(sent.count(word)/len(sent))\n",
        "            sent_vec += (vec * tf_idf)\n",
        "            weight_sum += tf_idf\n",
        "    if weight_sum != 0:\n",
        "        sent_vec /= weight_sum\n",
        "    tfidf_sent_vectors.append(sent_vec)\n",
        "    row += 1"
      ],
      "execution_count": 0,
      "outputs": [
        {
          "output_type": "stream",
          "text": [
            "100%|██████████| 4986/4986 [00:31<00:00, 158.84it/s]\n"
          ],
          "name": "stderr"
        }
      ]
    },
    {
      "cell_type": "markdown",
      "metadata": {
        "id": "grP7WVsuDYMp",
        "colab_type": "text"
      },
      "source": [
        "# [5] Assignment 3: KNN"
      ]
    },
    {
      "cell_type": "markdown",
      "metadata": {
        "id": "ysQgMV4SDYMq",
        "colab_type": "text"
      },
      "source": [
        "<ol>\n",
        "    <li><strong>Apply Knn(brute force version) on these feature sets</strong>\n",
        "        <ul>\n",
        "            <li><font color='red'>SET 1:</font>Review text, preprocessed one converted into vectors using (BOW)</li>\n",
        "            <li><font color='red'>SET 2:</font>Review text, preprocessed one converted into vectors using (TFIDF)</li>\n",
        "            <li><font color='red'>SET 3:</font>Review text, preprocessed one converted into vectors using (AVG W2v)</li>\n",
        "            <li><font color='red'>SET 4:</font>Review text, preprocessed one converted into vectors using (TFIDF W2v)</li>\n",
        "        </ul>\n",
        "    </li>\n",
        "    <br>\n",
        "    <li><strong>Apply Knn(kd tree version) on these feature sets</strong>\n",
        "        <br><font color='red'>NOTE: </font>sklearn implementation of kd-tree accepts only dense matrices, you need to convert the sparse matrices of CountVectorizer/TfidfVectorizer into dense matices. You can convert sparse matrices to dense using .toarray() attribute. For more information please visit this <a href='https://docs.scipy.org/doc/scipy-0.18.1/reference/generated/scipy.sparse.csr_matrix.toarray.html'>link</a>\n",
        "        <ul>\n",
        "            <li><font color='red'>SET 5:</font>Review text, preprocessed one converted into vectors using (BOW) but with restriction on maximum features generated.\n",
        "            <pre>\n",
        "            count_vect = CountVectorizer(min_df=10, max_features=500) \n",
        "            count_vect.fit(preprocessed_reviews)\n",
        "            </pre>\n",
        "            </li>\n",
        "            <li><font color='red'>SET 6:</font>Review text, preprocessed one converted into vectors using (TFIDF) but with restriction on maximum features generated.\n",
        "            <pre>\n",
        "                tf_idf_vect = TfidfVectorizer(min_df=10, max_features=500)\n",
        "                tf_idf_vect.fit(preprocessed_reviews)\n",
        "            </pre>\n",
        "            </li>\n",
        "            <li><font color='red'>SET 3:</font>Review text, preprocessed one converted into vectors using (AVG W2v)</li>\n",
        "            <li><font color='red'>SET 4:</font>Review text, preprocessed one converted into vectors using (TFIDF W2v)</li>\n",
        "        </ul>\n",
        "    </li>\n",
        "    <br>\n",
        "    <li><strong>The hyper paramter tuning(find best K)</strong>\n",
        "        <ul>\n",
        "    <li>Find the best hyper parameter which will give the maximum <a href='https://www.appliedaicourse.com/course/applied-ai-course-online/lessons/receiver-operating-characteristic-curve-roc-curve-and-auc-1/'>AUC</a> value</li>\n",
        "    <li>Find the best hyper paramter using k-fold cross validation or simple cross validation data</li>\n",
        "    <li>Use gridsearch cv or randomsearch cv or you can also write your own for loops to do this task of hyperparameter tuning</li>\n",
        "        </ul>\n",
        "    </li>\n",
        "    <br>\n",
        "    <li>\n",
        "    <strong>Representation of results</strong>\n",
        "        <ul>\n",
        "    <li>You need to plot the performance of model both on train data and cross validation data for each hyper parameter, like shown in the figure\n",
        "    <img src='https://github.com/data-science-and-machine-learning/amazon-fine-food-reviews-knn/blob/master/train_cv_auc.JPG?raw=1' width=300px></li>\n",
        "    <li>Once after you found the best hyper parameter, you need to train your model with it, and find the AUC on test data and plot the ROC curve on both train and test.\n",
        "    <img src='https://github.com/data-science-and-machine-learning/amazon-fine-food-reviews-knn/blob/master/train_test_auc.JPG?raw=1' width=300px></li>\n",
        "    <li>Along with plotting ROC curve, you need to print the <a href='https://www.appliedaicourse.com/course/applied-ai-course-online/lessons/confusion-matrix-tpr-fpr-fnr-tnr-1/'>confusion matrix</a> with predicted and original labels of test data points\n",
        "    <img src='https://github.com/data-science-and-machine-learning/amazon-fine-food-reviews-knn/blob/master/confusion_matrix.png?raw=1' width=300px></li>\n",
        "        </ul>\n",
        "    </li>\n",
        "    <br>\n",
        "    <li><strong>Conclusion</strong>\n",
        "        <ul>\n",
        "    <li>You need to summarize the results at the end of the notebook, summarize it in the table format. To print out a table please refer to this prettytable library<a href='http://zetcode.com/python/prettytable/'> link</a> \n",
        "        <img src='https://github.com/data-science-and-machine-learning/amazon-fine-food-reviews-knn/blob/master/summary.JPG?raw=1' width=400px>\n",
        "    </li>\n",
        "        </ul>\n",
        "</ol>"
      ]
    },
    {
      "cell_type": "markdown",
      "metadata": {
        "id": "juYtRIKQDYMr",
        "colab_type": "text"
      },
      "source": [
        "<h4><font color='red'>Note: Data Leakage</font></h4>\n",
        "\n",
        "1. There will be an issue of data-leakage if you vectorize the entire data and then split it into train/cv/test.\n",
        "2. To avoid the issue of data-leakag, make sure to split your data first and then vectorize it. \n",
        "3. While vectorizing your data, apply the method fit_transform() on you train data, and apply the method transform() on cv/test data.\n",
        "4. For more details please go through this <a href='https://soundcloud.com/applied-ai-course/leakage-bow-and-tfidf'>link.</a>"
      ]
    },
    {
      "cell_type": "markdown",
      "metadata": {
        "id": "WEbTAOWHDYMu",
        "colab_type": "text"
      },
      "source": [
        "## [5.1] Applying KNN brute force"
      ]
    },
    {
      "cell_type": "markdown",
      "metadata": {
        "id": "ArO5fI7kDYMv",
        "colab_type": "text"
      },
      "source": [
        "### [5.1.1] Applying KNN brute force on BOW,<font color='red'> SET 1</font>"
      ]
    },
    {
      "cell_type": "code",
      "metadata": {
        "id": "Rw_A_9pfDYMw",
        "colab_type": "code",
        "colab": {
          "base_uri": "https://localhost:8080/",
          "height": 360
        },
        "outputId": "3f894727-9b9a-47bc-9218-aa6612c1266c"
      },
      "source": [
        "# Please write all the code with proper documentation\n",
        "# final datapoint are in list preprocessed_reviews and their label in final['score']\n",
        "# splitting datapoints to test and train sets\n",
        "\n",
        "X = preprocessed_reviews\n",
        "Y = final['Score']\n",
        "\n",
        "from sklearn.model_selection import KFold, train_test_split, GridSearchCV\n",
        "from sklearn.neighbors import KNeighborsClassifier, kd_tree\n",
        "import time\n",
        "\n",
        "x_train, x_test, y_train, y_test = train_test_split(X, Y, test_size=0.20, shuffle=False, stratify=None)\n",
        "\n",
        "t = time.time()\n",
        "model =  CountVectorizer(ngram_range=(1,2), min_df=10, max_features=5000)\n",
        "train_bow = model.fit_transform(x_train)\n",
        "test_bow = model.transform(x_test)\n",
        "print('Time consumed in BoW vectorization= {:.2f} seconds'.format(time.time()-t))"
      ],
      "execution_count": 56,
      "outputs": [
        {
          "output_type": "error",
          "ename": "TypeError",
          "evalue": "ignored",
          "traceback": [
            "\u001b[0;31m---------------------------------------------------------------------------\u001b[0m",
            "\u001b[0;31mTypeError\u001b[0m                                 Traceback (most recent call last)",
            "\u001b[0;32m<ipython-input-56-c13d36c11443>\u001b[0m in \u001b[0;36m<module>\u001b[0;34m()\u001b[0m\n\u001b[1;32m      3\u001b[0m \u001b[0;32mfrom\u001b[0m \u001b[0msklearn\u001b[0m\u001b[0;34m.\u001b[0m\u001b[0mneighbors\u001b[0m \u001b[0;32mimport\u001b[0m \u001b[0mKNeighborsClassifier\u001b[0m\u001b[0;34m\u001b[0m\u001b[0;34m\u001b[0m\u001b[0m\n\u001b[1;32m      4\u001b[0m \u001b[0;34m\u001b[0m\u001b[0m\n\u001b[0;32m----> 5\u001b[0;31m \u001b[0mx_train\u001b[0m\u001b[0;34m,\u001b[0m \u001b[0mx_test\u001b[0m\u001b[0;34m,\u001b[0m \u001b[0my_train\u001b[0m\u001b[0;34m,\u001b[0m \u001b[0my_test\u001b[0m \u001b[0;34m=\u001b[0m \u001b[0mtrain_test_split\u001b[0m\u001b[0;34m(\u001b[0m\u001b[0mX\u001b[0m\u001b[0;34m,\u001b[0m \u001b[0mY\u001b[0m\u001b[0;34m,\u001b[0m \u001b[0mtest_data\u001b[0m\u001b[0;34m=\u001b[0m \u001b[0;36m0.20\u001b[0m\u001b[0;34m,\u001b[0m \u001b[0mstratify\u001b[0m\u001b[0;34m=\u001b[0m\u001b[0;32mNone\u001b[0m\u001b[0;34m,\u001b[0m \u001b[0mshuffle\u001b[0m\u001b[0;34m=\u001b[0m\u001b[0;32mFalse\u001b[0m\u001b[0;34m)\u001b[0m\u001b[0;34m\u001b[0m\u001b[0;34m\u001b[0m\u001b[0m\n\u001b[0m\u001b[1;32m      6\u001b[0m \u001b[0;34m\u001b[0m\u001b[0m\n\u001b[1;32m      7\u001b[0m \u001b[0mknn\u001b[0m \u001b[0;34m=\u001b[0m \u001b[0mKNeighborsClassifier\u001b[0m\u001b[0;34m(\u001b[0m\u001b[0;34m)\u001b[0m\u001b[0;34m\u001b[0m\u001b[0;34m\u001b[0m\u001b[0m\n",
            "\u001b[0;32m/usr/local/lib/python3.6/dist-packages/sklearn/model_selection/_split.py\u001b[0m in \u001b[0;36mtrain_test_split\u001b[0;34m(*arrays, **options)\u001b[0m\n\u001b[1;32m   2092\u001b[0m \u001b[0;34m\u001b[0m\u001b[0m\n\u001b[1;32m   2093\u001b[0m     \u001b[0;32mif\u001b[0m \u001b[0moptions\u001b[0m\u001b[0;34m:\u001b[0m\u001b[0;34m\u001b[0m\u001b[0;34m\u001b[0m\u001b[0m\n\u001b[0;32m-> 2094\u001b[0;31m         \u001b[0;32mraise\u001b[0m \u001b[0mTypeError\u001b[0m\u001b[0;34m(\u001b[0m\u001b[0;34m\"Invalid parameters passed: %s\"\u001b[0m \u001b[0;34m%\u001b[0m \u001b[0mstr\u001b[0m\u001b[0;34m(\u001b[0m\u001b[0moptions\u001b[0m\u001b[0;34m)\u001b[0m\u001b[0;34m)\u001b[0m\u001b[0;34m\u001b[0m\u001b[0;34m\u001b[0m\u001b[0m\n\u001b[0m\u001b[1;32m   2095\u001b[0m \u001b[0;34m\u001b[0m\u001b[0m\n\u001b[1;32m   2096\u001b[0m     \u001b[0marrays\u001b[0m \u001b[0;34m=\u001b[0m \u001b[0mindexable\u001b[0m\u001b[0;34m(\u001b[0m\u001b[0;34m*\u001b[0m\u001b[0marrays\u001b[0m\u001b[0;34m)\u001b[0m\u001b[0;34m\u001b[0m\u001b[0;34m\u001b[0m\u001b[0m\n",
            "\u001b[0;31mTypeError\u001b[0m: Invalid parameters passed: {'test_data': 0.2}"
          ]
        }
      ]
    },
    {
      "cell_type": "code",
      "metadata": {
        "id": "KHdTP_ya_FTF",
        "colab_type": "code",
        "colab": {
          "base_uri": "https://localhost:8080/",
          "height": 34
        },
        "outputId": "f7884159-e35d-477e-9e37-ec3d36882b61"
      },
      "source": [
        "import time\n",
        "\n",
        "while True:\n",
        "  print(time.ctime(), end='\\r')"
      ],
      "execution_count": 0,
      "outputs": [
        {
          "output_type": "stream",
          "text": [
            "Sat Jun  8 16:47:43 2019"
          ],
          "name": "stdout"
        }
      ]
    },
    {
      "cell_type": "code",
      "metadata": {
        "id": "ERtZOfQWA78R",
        "colab_type": "code",
        "outputId": "bd5e3e2e-ba7f-42f0-f2eb-24338f8a04a4",
        "colab": {
          "base_uri": "https://localhost:8080/",
          "height": 380
        }
      },
      "source": [
        "import statistics\n",
        "from sklearn.model_selection import cross_val_score\n",
        "from tqdm import tqdm\n",
        "\n",
        "# Checking cross validation score on various k-NN models and listing them in scores list\n",
        "scores = []\n",
        "for neighbors in tqdm(range(1,31,2)):\n",
        "  knn = KNeighborsClassifier(n_neighbors=neighbors)\n",
        "  # 10 fold cross validation\n",
        "  score = cross_val_score(knn, x, y, cv=10, scoring='accuracy')\n",
        "  scores.append([neighbors, statistics.mean(score)*100.0])\n",
        "  \n",
        "  \n",
        "  \n",
        "print(scores)\n",
        "pltx = [px[0] for px in scores[1:]]\n",
        "plty = [px[1] for px in scores[1:]]\n",
        "\n",
        "plt.title('k-NN graph of Amazon fine food reviews dataset using BoW')\n",
        "plt.xlabel('k-value of k-NN')\n",
        "plt.ylabel('Accuracy')\n",
        "plt.xticks(pltx)\n",
        "plt.grid(True, lw = 2, ls = '--', c = '.75')\n",
        "plt.plot(pltx, plty, linestyle='-', linewidth=2.0)\n",
        "print('\\nk-NN brute force best model: {}-NN, With Accuracy: {:.2f}%'.format(pltx[plty.index(max(plty))], max(plty)))\n"
      ],
      "execution_count": 0,
      "outputs": [
        {
          "output_type": "stream",
          "text": [
            "100%|██████████| 15/15 [00:10<00:00,  1.42it/s]\n"
          ],
          "name": "stderr"
        },
        {
          "output_type": "stream",
          "text": [
            "[[1, 79.31118090452262], [3, 83.4253768844221], [5, 83.97776381909547], [7, 84.25301507537688], [9, 84.20288944723619], [11, 84.32826633165828], [13, 84.35326633165829], [15, 84.3785175879397], [17, 84.57914572864321], [19, 84.5037688442211], [21, 84.47876884422111], [23, 84.4786432160804], [25, 84.47876884422111], [27, 84.60439698492462], [29, 84.52927135678392]]\n",
            "\n",
            "k-NN brute force best model: 27-NN, With Accuracy: 84.60%\n"
          ],
          "name": "stdout"
        },
        {
          "output_type": "display_data",
          "data": {
            "image/png": "[encoded data removed]",
            "text/plain": [
              "<Figure size 432x288 with 1 Axes>"
            ]
          },
          "metadata": {
            "tags": []
          }
        }
      ]
    },
    {
      "cell_type": "code",
      "metadata": {
        "id": "R28q31pjDxe6",
        "colab_type": "code",
        "colab": {}
      },
      "source": [
        ""
      ],
      "execution_count": 0,
      "outputs": []
    },
    {
      "cell_type": "markdown",
      "metadata": {
        "id": "m0UxvEKBDYM8",
        "colab_type": "text"
      },
      "source": [
        "### [5.1.2] Applying KNN brute force on TFIDF,<font color='red'> SET 2</font>"
      ]
    },
    {
      "cell_type": "code",
      "metadata": {
        "id": "5ffXQxa7DYM9",
        "colab_type": "code",
        "outputId": "769cbec0-6eda-40e5-d795-40c220b60ad9",
        "colab": {
          "base_uri": "https://localhost:8080/",
          "height": 380
        }
      },
      "source": [
        "# Please write all the code with proper documentation\n",
        "\n",
        "import statistics\n",
        "from sklearn.model_selection import cross_val_score\n",
        "from tqdm import tqdm\n",
        "from sklearn.model_selection import train_test_split\n",
        "from sklearn.model_selection import KFold\n",
        "from sklearn.neighbors import KNeighborsClassifier\n",
        "\n",
        "tf_idf_vect = TfidfVectorizer(ngram_range=(1,2), min_df=10)\n",
        "tf_idf_vect.fit(preprocessed_reviews)\n",
        "final_tf_idf = tf_idf_vect.transform(preprocessed_reviews)\n",
        "\n",
        "X = final_tf_idf\n",
        "Y = final['Score']\n",
        "\n",
        "\n",
        "# For time based slicing we already sorted datapoints with respect to time feild.\n",
        "# for time based slicing we have kept shuffle=False, stratify=None\n",
        "x, x_test, y, y_test = train_test_split(X, Y, test_size=0.20, shuffle=False, stratify=None)\n",
        "\n",
        "# Checking cross validation score on various k-NN models and listing them in scores list\n",
        "scores = []\n",
        "for neighbors in tqdm(range(1,31,2)):\n",
        "  knn = KNeighborsClassifier(n_neighbors=neighbors)\n",
        "  # 10 fold cross validation\n",
        "  score = cross_val_score(knn, x, y, cv=10, scoring='accuracy')\n",
        "  scores.append([neighbors, statistics.mean(score)*100.0])\n",
        "  \n",
        "  \n",
        "print(scores)\n",
        "pltx = [px[0] for px in scores[1:]]\n",
        "plty = [px[1] for px in scores[1:]]\n",
        "\n",
        "plt.title('k-NN graph of Amazon fine food reviews dataset using TF-IDF')\n",
        "plt.xlabel('k-value of k-NN')\n",
        "plt.ylabel('Accuracy')\n",
        "plt.xticks(pltx)\n",
        "plt.grid(True, lw = 2, ls = '--', c = '.75')\n",
        "plt.plot(pltx, plty, linestyle='-', linewidth=2.0)\n",
        "print('\\nk-NN brute force best model: {}-NN, With Accuracy: {:.2f}%'.format(pltx[plty.index(max(plty))], max(plty)))\n",
        "\n",
        "\n"
      ],
      "execution_count": 0,
      "outputs": [
        {
          "output_type": "stream",
          "text": [
            "100%|██████████| 15/15 [00:09<00:00,  1.50it/s]\n"
          ],
          "name": "stderr"
        },
        {
          "output_type": "stream",
          "text": [
            "[[1, 83.60188442211054], [3, 84.4286432160804], [5, 84.4035175879397], [7, 84.35326633165829], [9, 84.35326633165829], [11, 84.35326633165829], [13, 84.35326633165829], [15, 84.35326633165829], [17, 84.35326633165829], [19, 84.35326633165829], [21, 84.35326633165829], [23, 84.35326633165829], [25, 84.3782663316583], [27, 84.35326633165829], [29, 84.37839195979899]]\n",
            "\n",
            "k-NN brute force best model: 3-NN, With Accuracy: 84.43%\n"
          ],
          "name": "stdout"
        },
        {
          "output_type": "display_data",
          "data": {
            "image/png": "[encoded data removed]",
            "text/plain": [
              "<Figure size 432x288 with 1 Axes>"
            ]
          },
          "metadata": {
            "tags": []
          }
        }
      ]
    },
    {
      "cell_type": "markdown",
      "metadata": {
        "id": "sgcPCRG8DYNC",
        "colab_type": "text"
      },
      "source": [
        "### [5.1.3] Applying KNN brute force on AVG W2V,<font color='red'> SET 3</font>"
      ]
    },
    {
      "cell_type": "code",
      "metadata": {
        "id": "bT4Dm8fiDYNL",
        "colab_type": "code",
        "outputId": "671e2462-65ad-45d6-9b05-f53bf3a3cba9",
        "colab": {
          "base_uri": "https://localhost:8080/",
          "height": 380
        }
      },
      "source": [
        "# Please write all the code with proper documentation\n",
        "\n",
        "import statistics\n",
        "from sklearn.model_selection import cross_val_score\n",
        "from tqdm import tqdm\n",
        "from sklearn.model_selection import train_test_split\n",
        "from sklearn.model_selection import KFold\n",
        "from sklearn.neighbors import KNeighborsClassifier\n",
        "\n",
        "X = sent_vectors\n",
        "Y = final['Score']\n",
        "\n",
        "\n",
        "# For time based slicing we already sorted datapoints with respect to time feild.\n",
        "# for time based slicing we have kept shuffle=False, stratify=None\n",
        "x, x_test, y, y_test = train_test_split(X, Y, test_size=0.20, shuffle=False, stratify=None)\n",
        "\n",
        "# Checking cross validation score on various k-NN models and listing them in scores list\n",
        "scores = []\n",
        "for neighbors in tqdm(range(1,31,2)):\n",
        "  knn = KNeighborsClassifier(n_neighbors=neighbors)\n",
        "  # 10 fold cross validation\n",
        "  score = cross_val_score(knn, x, y, cv=10, scoring='accuracy')\n",
        "  scores.append([neighbors, statistics.mean(score)*100.0])\n",
        "  \n",
        "  \n",
        "print(scores)\n",
        "pltx = [px[0] for px in scores[1:]]\n",
        "plty = [px[1] for px in scores[1:]]\n",
        "\n",
        "plt.title('k-NN graph of Amazon fine food reviews dataset using AVG W2V')\n",
        "plt.xlabel('k-value of k-NN')\n",
        "plt.ylabel('Accuracy')\n",
        "plt.xticks(pltx)\n",
        "plt.grid(True, lw = 2, ls = '--', c = '.75')\n",
        "plt.plot(pltx, plty, linestyle='-', linewidth=2.0)\n",
        "print('\\nk-NN brute force best model: {}-NN, With Accuracy: {:.2f}%'.format(pltx[plty.index(max(plty))], max(plty)))\n",
        "\n",
        "\n"
      ],
      "execution_count": 0,
      "outputs": [
        {
          "output_type": "stream",
          "text": [
            "100%|██████████| 15/15 [00:08<00:00,  1.57it/s]"
          ],
          "name": "stderr"
        },
        {
          "output_type": "stream",
          "text": [
            "[[1, 74.94924623115577], [3, 81.39422110552765], [5, 82.37110552763819], [7, 83.34937185929648], [9, 83.62537688442211], [11, 83.82575376884422], [13, 83.85100502512563], [15, 84.02650753768845], [17, 84.15201005025126], [19, 84.25251256281408], [21, 84.20251256281406], [23, 84.22776381909549], [25, 84.32801507537688], [27, 84.15251256281408], [29, 84.15251256281408]]\n",
            "\n",
            "k-NN brute force best model: 25-NN, With Accuracy: 84.33%\n"
          ],
          "name": "stdout"
        },
        {
          "output_type": "stream",
          "text": [
            "\n"
          ],
          "name": "stderr"
        },
        {
          "output_type": "display_data",
          "data": {
            "image/png": "[encoded data removed]",
            "text/plain": [
              "<Figure size 432x288 with 1 Axes>"
            ]
          },
          "metadata": {
            "tags": []
          }
        }
      ]
    },
    {
      "cell_type": "markdown",
      "metadata": {
        "id": "L-xcoDmADYNP",
        "colab_type": "text"
      },
      "source": [
        "### [5.1.4] Applying KNN brute force on TFIDF W2V,<font color='red'> SET 4</font>"
      ]
    },
    {
      "cell_type": "code",
      "metadata": {
        "id": "Z9tFDe5_DYNQ",
        "colab_type": "code",
        "outputId": "22bf3c7d-11c0-4d58-f642-66cae78f1b45",
        "colab": {
          "base_uri": "https://localhost:8080/",
          "height": 380
        }
      },
      "source": [
        "# Please write all the code with proper documentation\n",
        "\n",
        "import statistics\n",
        "from sklearn.model_selection import cross_val_score\n",
        "from tqdm import tqdm\n",
        "from sklearn.model_selection import train_test_split\n",
        "from sklearn.model_selection import KFold\n",
        "from sklearn.neighbors import KNeighborsClassifier\n",
        "\n",
        "X = tfidf_sent_vectors\n",
        "Y = final['Score']\n",
        "\n",
        "\n",
        "# For time based slicing we already sorted datapoints with respect to time feild.\n",
        "# for time based slicing we have kept shuffle=False, stratify=None\n",
        "x, x_test, y, y_test = train_test_split(X, Y, test_size=0.20, shuffle=False, stratify=None)\n",
        "\n",
        "# Checking cross validation score on various k-NN models and listing them in scores list\n",
        "scores = []\n",
        "for neighbors in tqdm(range(1,31,2)):\n",
        "  knn = KNeighborsClassifier(n_neighbors=neighbors)\n",
        "  # 10 fold cross validation\n",
        "  score = cross_val_score(knn, x, y, cv=10, scoring='accuracy')\n",
        "  scores.append([neighbors, statistics.mean(score)*100.0])\n",
        "  \n",
        "  \n",
        "print(scores)\n",
        "pltx = [px[0] for px in scores[1:]]\n",
        "plty = [px[1] for px in scores[1:]]\n",
        "\n",
        "plt.title('k-NN graph of Amazon fine food reviews dataset using TF-IDF W2V')\n",
        "plt.xlabel('k-value of k-NN')\n",
        "plt.ylabel('Accuracy')\n",
        "plt.xticks(pltx)\n",
        "plt.grid(True, lw = 2, ls = '--', c = '.75')\n",
        "plt.plot(pltx, plty, linestyle='-', linewidth=2.0)\n",
        "print('\\nk-NN brute force best model: {}-NN, With Accuracy: {:.2f}%'.format(pltx[plty.index(max(plty))], max(plty)))\n",
        "\n",
        "\n"
      ],
      "execution_count": 0,
      "outputs": [
        {
          "output_type": "stream",
          "text": [
            "100%|██████████| 15/15 [00:07<00:00,  1.79it/s]"
          ],
          "name": "stderr"
        },
        {
          "output_type": "stream",
          "text": [
            "[[1, 75.95138190954773], [3, 79.91419597989949], [5, 81.94522613065327], [7, 82.89836683417086], [9, 83.50100502512564], [11, 84.17738693467336], [13, 84.25276381909548], [15, 84.27788944723618], [17, 84.22751256281407], [19, 84.30276381909547], [21, 84.25276381909548], [23, 84.30301507537689], [25, 84.32814070351759], [27, 84.32814070351759], [29, 84.35326633165829]]\n",
            "\n",
            "k-NN brute force best model: 29-NN, With Accuracy: 84.35%\n"
          ],
          "name": "stdout"
        },
        {
          "output_type": "stream",
          "text": [
            "\n"
          ],
          "name": "stderr"
        },
        {
          "output_type": "display_data",
          "data": {
            "image/png": "[encoded data removed]",
            "text/plain": [
              "<Figure size 432x288 with 1 Axes>"
            ]
          },
          "metadata": {
            "tags": []
          }
        }
      ]
    },
    {
      "cell_type": "markdown",
      "metadata": {
        "id": "v2x7vWX-DYNT",
        "colab_type": "text"
      },
      "source": [
        "## [5.2] Applying KNN kd-tree"
      ]
    },
    {
      "cell_type": "markdown",
      "metadata": {
        "id": "jfY8wT02DYNU",
        "colab_type": "text"
      },
      "source": [
        "### [5.2.1] Applying KNN kd-tree on BOW,<font color='red'> SET 5</font>"
      ]
    },
    {
      "cell_type": "code",
      "metadata": {
        "id": "kiIQYuA2DYNV",
        "colab_type": "code",
        "outputId": "901c8a11-8abd-49fd-9d80-7f4f6a2fb1a7",
        "colab": {
          "base_uri": "https://localhost:8080/",
          "height": 380
        }
      },
      "source": [
        "# Please write all the code with proper documentation\n",
        "\n",
        "import statistics\n",
        "from sklearn.model_selection import cross_val_score\n",
        "from tqdm import tqdm\n",
        "from sklearn.model_selection import train_test_split\n",
        "from sklearn.model_selection import KFold\n",
        "from sklearn.neighbors import KNeighborsClassifier\n",
        "\n",
        "\n",
        "count_vect = CountVectorizer(min_df=10, max_features=500) \n",
        "count_vect.fit(preprocessed_reviews)\n",
        "final_counts = count_vect.transform(preprocessed_reviews)\n",
        "\n",
        "X = final_counts\n",
        "Y = final['Score']\n",
        "\n",
        "\n",
        "# For time based slicing we already sorted datapoints with respect to time feild.\n",
        "# for time based slicing we have kept shuffle=False, stratify=None\n",
        "x, x_test, y, y_test = train_test_split(X, Y, test_size=0.20, shuffle=False, stratify=None)\n",
        "\n",
        "# Checking cross validation score on various k-NN models and listing them in scores list\n",
        "scores = []\n",
        "for neighbors in tqdm(range(1,31,2)):\n",
        "  #knn using kd_tree algotithm\n",
        "  knn = KNeighborsClassifier(n_neighbors=neighbors, algorithm='kd_tree')\n",
        "  # 10 fold cross validation\n",
        "  #kdtree algorithm accepts dense matrix, converting sparse matrix into dense matrix\n",
        "  score = cross_val_score(knn, x.toarray(), y, cv=10, scoring='accuracy')\n",
        "  scores.append([neighbors, statistics.mean(score)*100.0])\n",
        "  \n",
        "  \n",
        "print(scores)\n",
        "pltx = [px[0] for px in scores[1:]]\n",
        "plty = [px[1] for px in scores[1:]]\n",
        "\n",
        "plt.title('k-NN graph of Amazon fine food reviews dataset using BOW')\n",
        "plt.xlabel('k-value of k-NN using kd-tree algorithm')\n",
        "plt.ylabel('Accuracy')\n",
        "plt.xticks(pltx)\n",
        "plt.grid(True, lw = 2, ls = '--', c = '.75')\n",
        "plt.plot(pltx, plty, linestyle='-', linewidth=2.0)\n",
        "print('\\nk-NN using kd_tree best model: {}-NN, With Accuracy: {:.2f}%'.format(pltx[plty.index(max(plty))], max(plty)))\n",
        "\n",
        "\n"
      ],
      "execution_count": 0,
      "outputs": [
        {
          "output_type": "stream",
          "text": [
            "100%|██████████| 15/15 [03:11<00:00, 12.83s/it]\n"
          ],
          "name": "stderr"
        },
        {
          "output_type": "stream",
          "text": [
            "[[1, 79.23756281407034], [3, 82.07236180904522], [5, 83.17562814070352], [7, 83.70150753768844], [9, 84.00238693467337], [11, 84.3286432160804], [13, 84.60427135678393], [15, 84.52914572864321], [17, 84.80552763819095], [19, 84.68015075376884], [21, 84.57952261306532], [23, 84.78027638190954], [25, 84.52939698492462], [27, 84.50464824120603], [29, 84.83040201005025]]\n",
            "\n",
            "k-NN using kd_tree best model: 29-NN, With Accuracy: 84.83%\n"
          ],
          "name": "stdout"
        },
        {
          "output_type": "display_data",
          "data": {
            "image/png": "[encoded data removed]",
            "text/plain": [
              "<Figure size 432x288 with 1 Axes>"
            ]
          },
          "metadata": {
            "tags": []
          }
        }
      ]
    },
    {
      "cell_type": "markdown",
      "metadata": {
        "id": "kG-xYnK7DYNt",
        "colab_type": "text"
      },
      "source": [
        "### [5.2.2] Applying KNN kd-tree on TFIDF,<font color='red'> SET 6</font>"
      ]
    },
    {
      "cell_type": "code",
      "metadata": {
        "id": "ffjRVz_iDYNu",
        "colab_type": "code",
        "outputId": "db63137e-274a-49ee-9968-debc1ef89968",
        "colab": {
          "base_uri": "https://localhost:8080/",
          "height": 380
        }
      },
      "source": [
        "# Please write all the code with proper documentation\n",
        "\n",
        "import statistics\n",
        "from sklearn.model_selection import cross_val_score\n",
        "from tqdm import tqdm\n",
        "from sklearn.model_selection import train_test_split\n",
        "from sklearn.model_selection import KFold\n",
        "from sklearn.neighbors import KNeighborsClassifier\n",
        "\n",
        "\n",
        "tf_idf_vect = TfidfVectorizer(min_df=10, max_features=500)\n",
        "tf_idf_vect.fit(preprocessed_reviews)\n",
        "final_tf_idf = tf_idf_vect.transform(preprocessed_reviews)\n",
        "\n",
        "X = final_tf_idf\n",
        "Y = final['Score']\n",
        "\n",
        "\n",
        "# For time based slicing we already sorted datapoints with respect to time feild.\n",
        "# for time based slicing we have kept shuffle=False, stratify=None\n",
        "x, x_test, y, y_test = train_test_split(X, Y, test_size=0.20, shuffle=False, stratify=None)\n",
        "\n",
        "# Checking cross validation score on various k-NN models and listing them in scores list\n",
        "scores = []\n",
        "for neighbors in tqdm(range(1,31,2)):\n",
        "  #knn using kd_tree algotithm\n",
        "  knn = KNeighborsClassifier(n_neighbors=neighbors, algorithm='kd_tree')\n",
        "  # 10 fold cross validation\n",
        "  #kdtree algorithm accepts dense matrix, converting sparse matrix into dense matrix\n",
        "  score = cross_val_score(knn, x.toarray(), y, cv=10, scoring='accuracy')\n",
        "  scores.append([neighbors, statistics.mean(score)*100.0])\n",
        "  \n",
        "  \n",
        "print(scores)\n",
        "pltx = [px[0] for px in scores[1:]]\n",
        "plty = [px[1] for px in scores[1:]]\n",
        "\n",
        "plt.title('k-NN graph of Amazon fine food reviews dataset using TF-IDF')\n",
        "plt.xlabel('k-value of k-NN using kd-tree algorithm')\n",
        "plt.ylabel('Accuracy')\n",
        "plt.xticks(pltx)\n",
        "plt.grid(True, lw = 2, ls = '--', c = '.75')\n",
        "plt.plot(pltx, plty, linestyle='-', linewidth=2.0)\n",
        "print('\\nk-NN using kd_tree best model: {}-NN, With Accuracy: {:.2f}%'.format(pltx[plty.index(max(plty))], max(plty)))\n",
        "\n",
        "\n"
      ],
      "execution_count": 0,
      "outputs": [
        {
          "output_type": "stream",
          "text": [
            "100%|██████████| 15/15 [03:11<00:00, 12.76s/it]\n"
          ],
          "name": "stderr"
        },
        {
          "output_type": "stream",
          "text": [
            "[[1, 81.9458542713568], [3, 84.02701005025126], [5, 84.32776381909548], [7, 84.32814070351759], [9, 84.37839195979899], [11, 84.32814070351759], [13, 84.35326633165829], [15, 84.35326633165829], [17, 84.35326633165829], [19, 84.35326633165829], [21, 84.35326633165829], [23, 84.35326633165829], [25, 84.35326633165829], [27, 84.35326633165829], [29, 84.35326633165829]]\n",
            "\n",
            "k-NN using kd_tree best model: 9-NN, With Accuracy: 84.38%\n"
          ],
          "name": "stdout"
        },
        {
          "output_type": "display_data",
          "data": {
            "image/png": "[encoded data removed]",
            "text/plain": [
              "<Figure size 432x288 with 1 Axes>"
            ]
          },
          "metadata": {
            "tags": []
          }
        }
      ]
    },
    {
      "cell_type": "markdown",
      "metadata": {
        "id": "ddU0dZI0DYNx",
        "colab_type": "text"
      },
      "source": [
        "### [5.2.3] Applying KNN kd-tree on AVG W2V,<font color='red'> SET 3</font>"
      ]
    },
    {
      "cell_type": "code",
      "metadata": {
        "id": "YAl6PXWcDYNy",
        "colab_type": "code",
        "outputId": "ee47a823-ad88-432a-8e82-13d2ad6a63c7",
        "colab": {
          "base_uri": "https://localhost:8080/",
          "height": 380
        }
      },
      "source": [
        "# Please write all the code with proper documentation\n",
        "\n",
        "import statistics\n",
        "from sklearn.model_selection import cross_val_score\n",
        "from tqdm import tqdm\n",
        "from sklearn.model_selection import train_test_split\n",
        "from sklearn.model_selection import KFold\n",
        "from sklearn.neighbors import KNeighborsClassifier\n",
        "\n",
        "X = sent_vectors\n",
        "Y = final['Score']\n",
        "\n",
        "\n",
        "# For time based slicing we already sorted datapoints with respect to time feild.\n",
        "# for time based slicing we have kept shuffle=False, stratify=None\n",
        "x, x_test, y, y_test = train_test_split(X, Y, test_size=0.20, shuffle=False, stratify=None)\n",
        "\n",
        "# Checking cross validation score on various k-NN models and listing them in scores list\n",
        "scores = []\n",
        "for neighbors in tqdm(range(1,31,2)):\n",
        "  #knn using kd_tree algotithm\n",
        "  knn = KNeighborsClassifier(n_neighbors=neighbors, algorithm='kd_tree')\n",
        "  # 10 fold cross validation\n",
        "  #kdtree algorithm accepts dense matrix, converting sparse matrix into dense matrix\n",
        "  score = cross_val_score(knn, x, y, cv=10, scoring='accuracy')\n",
        "  scores.append([neighbors, statistics.mean(score)*100.0])\n",
        "  \n",
        "  \n",
        "print(scores)\n",
        "pltx = [px[0] for px in scores[1:]]\n",
        "plty = [px[1] for px in scores[1:]]\n",
        "\n",
        "plt.title('k-NN graph of Amazon fine food reviews dataset using AVG-W2V')\n",
        "plt.xlabel('k-value of k-NN using kd-tree algorithm')\n",
        "plt.ylabel('Accuracy')\n",
        "plt.xticks(pltx)\n",
        "plt.grid(True, lw = 2, ls = '--', c = '.75')\n",
        "plt.plot(pltx, plty, linestyle='-', linewidth=2.0)\n",
        "print('\\nk-NN using kd_tree best model: {}-NN, With Accuracy: {:.2f}%'.format(pltx[plty.index(max(plty))], max(plty)))\n",
        "\n",
        "\n"
      ],
      "execution_count": 0,
      "outputs": [
        {
          "output_type": "stream",
          "text": [
            "100%|██████████| 15/15 [00:08<00:00,  1.56it/s]"
          ],
          "name": "stderr"
        },
        {
          "output_type": "stream",
          "text": [
            "[[1, 74.94924623115577], [3, 81.39422110552765], [5, 82.37110552763819], [7, 83.34937185929648], [9, 83.62537688442211], [11, 83.82575376884422], [13, 83.85100502512563], [15, 84.02650753768845], [17, 84.15201005025126], [19, 84.25251256281408], [21, 84.20251256281406], [23, 84.22776381909549], [25, 84.32801507537688], [27, 84.15251256281408], [29, 84.15251256281408]]\n",
            "\n",
            "k-NN using kd_tree best model: 25-NN, With Accuracy: 84.33%\n"
          ],
          "name": "stdout"
        },
        {
          "output_type": "stream",
          "text": [
            "\n"
          ],
          "name": "stderr"
        },
        {
          "output_type": "display_data",
          "data": {
            "image/png": "[encoded data removed]",
            "text/plain": [
              "<Figure size 432x288 with 1 Axes>"
            ]
          },
          "metadata": {
            "tags": []
          }
        }
      ]
    },
    {
      "cell_type": "markdown",
      "metadata": {
        "id": "IQUILTzFDYN0",
        "colab_type": "text"
      },
      "source": [
        "### [5.2.4] Applying KNN kd-tree on TFIDF W2V,<font color='red'> SET 4</font>"
      ]
    },
    {
      "cell_type": "code",
      "metadata": {
        "id": "vNmmBe5hDYN1",
        "colab_type": "code",
        "outputId": "e0468f57-d6e0-4ec6-84e7-691151127b62",
        "colab": {
          "base_uri": "https://localhost:8080/",
          "height": 380
        }
      },
      "source": [
        "# Please write all the code with proper documentation\n",
        "\n",
        "import statistics\n",
        "from sklearn.model_selection import cross_val_score\n",
        "from tqdm import tqdm\n",
        "from sklearn.model_selection import train_test_split\n",
        "from sklearn.model_selection import KFold\n",
        "from sklearn.neighbors import KNeighborsClassifier\n",
        "\n",
        "X = tfidf_sent_vectors\n",
        "Y = final['Score']\n",
        "\n",
        "\n",
        "# For time based slicing we already sorted datapoints with respect to time feild.\n",
        "# for time based slicing we have kept shuffle=False, stratify=None\n",
        "x, x_test, y, y_test = train_test_split(X, Y, test_size=0.20, shuffle=False, stratify=None)\n",
        "\n",
        "# Checking cross validation score on various k-NN models and listing them in scores list\n",
        "scores = []\n",
        "for neighbors in tqdm(range(1,31,2)):\n",
        "  #knn using kd_tree algotithm\n",
        "  knn = KNeighborsClassifier(n_neighbors=neighbors, algorithm='kd_tree')\n",
        "  # 10 fold cross validation\n",
        "  #kdtree algorithm accepts dense matrix, converting sparse matrix into dense matrix\n",
        "  score = cross_val_score(knn, x, y, cv=10, scoring='accuracy')\n",
        "  scores.append([neighbors, statistics.mean(score)*100.0])\n",
        "  \n",
        "  \n",
        "print(scores)\n",
        "pltx = [px[0] for px in scores[1:]]\n",
        "plty = [px[1] for px in scores[1:]]\n",
        "\n",
        "plt.title('k-NN graph of Amazon fine food reviews dataset using TF-IDF-W2V')\n",
        "plt.xlabel('k-value of k-NN using kd-tree algorithm')\n",
        "plt.ylabel('Accuracy')\n",
        "plt.xticks(pltx)\n",
        "plt.grid(True, lw = 2, ls = '--', c = '.75')\n",
        "plt.plot(pltx, plty, linestyle='-', linewidth=2.0)\n",
        "print('\\nk-NN using kd_tree best model: {}-NN, With Accuracy: {:.2f}%'.format(pltx[plty.index(max(plty))], max(plty)))\n",
        "\n",
        "\n"
      ],
      "execution_count": 0,
      "outputs": [
        {
          "output_type": "stream",
          "text": [
            "100%|██████████| 15/15 [00:07<00:00,  1.80it/s]"
          ],
          "name": "stderr"
        },
        {
          "output_type": "stream",
          "text": [
            "[[1, 75.95138190954773], [3, 79.91419597989949], [5, 81.94522613065327], [7, 82.89836683417086], [9, 83.50100502512564], [11, 84.17738693467336], [13, 84.25276381909548], [15, 84.27788944723618], [17, 84.22751256281407], [19, 84.30276381909547], [21, 84.25276381909548], [23, 84.30301507537689], [25, 84.32814070351759], [27, 84.32814070351759], [29, 84.35326633165829]]\n",
            "\n",
            "k-NN using kd_tree best model: 29-NN, With Accuracy: 84.35%\n"
          ],
          "name": "stdout"
        },
        {
          "output_type": "stream",
          "text": [
            "\n"
          ],
          "name": "stderr"
        },
        {
          "output_type": "display_data",
          "data": {
            "image/png": "[encoded data removed]",
            "text/plain": [
              "<Figure size 432x288 with 1 Axes>"
            ]
          },
          "metadata": {
            "tags": []
          }
        }
      ]
    },
    {
      "cell_type": "code",
      "metadata": {
        "id": "U9m11k_0z8v3",
        "colab_type": "code",
        "outputId": "019d624a-870d-4a8c-e81d-b5461924c43d",
        "colab": {
          "base_uri": "https://localhost:8080/",
          "height": 1391
        }
      },
      "source": [
        "# Accuracy plot on unseen test data\n",
        "\n",
        "from sklearn.neighbors import KNeighborsClassifier\n",
        "from sklearn.model_selection import train_test_split\n",
        "from sklearn.model_selection import KFold\n",
        "from sklearn.neighbors import KNeighborsClassifier\n",
        "\n",
        "# BOW K-NN PLOT\n",
        "\n",
        "count_vect = CountVectorizer(min_df=10, max_features=500)\n",
        "final_bigram_counts = count_vect.fit_transform(preprocessed_reviews)\n",
        "\n",
        "X = final_bigram_counts\n",
        "Y = final['Score']\n",
        "\n",
        "fig = plt.figure(figsize=(10,20))\n",
        "fig.suptitle('k-NN graph of Amazon fine food reviews dataset', fontsize=16)\n",
        "\n",
        "\n",
        "ax1 = fig.add_subplot(411)\n",
        "# For time based slicing we already sorted datapoints with respect to time feild.\n",
        "# for time based slicing we have kept shuffle=False, stratify=None\n",
        "x, x_test, y, y_test = train_test_split(X, Y, test_size=0.20, shuffle=False, stratify=None)\n",
        "n = []\n",
        "s = []\n",
        "for neighbors in tqdm(range(1,31,2)):\n",
        "  knn = KNeighborsClassifier(n_neighbors=neighbors, algorithm='kd_tree')\n",
        "  knn.fit(x.toarray(),y)\n",
        "  n.append(neighbors)\n",
        "  s.append(knn.score(x_test.toarray(), y_test)*100.0)\n",
        "  \n",
        "ax1.set(xlabel='k-value of k-NN using kd-tree algorithm', ylabel='Accuracy',\n",
        "       title=\"Best k-nn model with BoW vectorizer is {} nearest neighbors and {:.2f}% accuracy\".format(n[s.index(max(s))], max(s)))\n",
        "ax1.plot(n, s, linestyle='-', linewidth=2.0)\n",
        "ax1.grid()\n",
        "\n",
        "# TF-IDF K-NN PLOT\n",
        "\n",
        "tf_idf_vect = TfidfVectorizer(min_df=10, max_features=500)\n",
        "tf_idf_vect.fit(preprocessed_reviews)\n",
        "final_tf_idf = tf_idf_vect.transform(preprocessed_reviews)\n",
        "\n",
        "X = final_tf_idf\n",
        "Y = final['Score']\n",
        "x, x_test, y, y_test = train_test_split(X, Y, test_size=0.20, shuffle=False, stratify=None)\n",
        "\n",
        "ax2 = fig.add_subplot(412)\n",
        "\n",
        "n = []\n",
        "s = []\n",
        "for neighbors in tqdm(range(1,31,2)):\n",
        "  knn = KNeighborsClassifier(n_neighbors=neighbors, algorithm='kd_tree')\n",
        "  knn.fit(x.toarray(),y)\n",
        "  n.append(neighbors)\n",
        "  s.append(knn.score(x_test.toarray(), y_test)*100.0)\n",
        "  \n",
        "ax2.set(xlabel='k-value of k-NN using kd-tree algorithm', ylabel='Accuracy',\n",
        "       title=\"Best k-nn model with TFIDF vectorizer is {} nearest neighbors and {:.2f}% accuracy\".format(n[s.index(max(s))], max(s)))\n",
        "ax2.plot(n, s, linestyle='-', linewidth=2.0)\n",
        "ax2.grid()\n",
        "\n",
        "# AVG-W2V K-NN PLOT\n",
        "\n",
        "\n",
        "X = sent_vectors\n",
        "Y = final['Score']\n",
        "x, x_test, y, y_test = train_test_split(X, Y, test_size=0.20, shuffle=False, stratify=None)\n",
        "ax3 = fig.add_subplot(413)\n",
        "n = []\n",
        "s = []\n",
        "for neighbors in tqdm(range(1,31,2)):\n",
        "  knn = KNeighborsClassifier(n_neighbors=neighbors, algorithm='kd_tree')\n",
        "  knn.fit(x,y)\n",
        "  n.append(neighbors)\n",
        "  s.append(knn.score(x_test, y_test)*100.0)\n",
        "  \n",
        "ax3.set(xlabel='k-value of k-NN using kd-tree algorithm', ylabel='Accuracy',\n",
        "       title=\"Best k-nn model with AVG-W2V vectorizer is {} nearest neighbors and {:.2f}% accuracy\".format(n[s.index(max(s))], max(s)))\n",
        "ax3.plot(n, s, linestyle='-', linewidth=2.0)\n",
        "ax3.grid()\n",
        "\n",
        "# TFIDF-W2V K-NN PLOT\n",
        "\n",
        "\n",
        "X = tfidf_sent_vectors\n",
        "Y = final['Score']\n",
        "x, x_test, y, y_test = train_test_split(X, Y, test_size=0.20, shuffle=False, stratify=None)\n",
        "ax4 = fig.add_subplot(414)\n",
        "\n",
        "n = []\n",
        "s = []\n",
        "for neighbors in tqdm(range(1,31,2)):\n",
        "  knn = KNeighborsClassifier(n_neighbors=neighbors, algorithm='kd_tree')\n",
        "  knn.fit(x,y)\n",
        "  n.append(neighbors)\n",
        "  s.append(knn.score(x_test, y_test)*100.0)\n",
        "  \n",
        "ax4.set(xlabel='k-value of k-NN using kd-tree algorithm', ylabel='Accuracy',\n",
        "       title=\"Best k-nn model with TFIDF-W2V vectorizer is {} nearest neighbors and {:.2f}% accuracy\".format(n[s.index(max(s))], max(s)))\n",
        "ax4.plot(n, s, linestyle='-', linewidth=2.0)\n",
        "ax4.grid()\n",
        "\n",
        "\n",
        "print('\\nk-NN using kd_tree best model: {}-NN, With Accuracy: {:.2f}%'.format(n[s.index(max(s))], max(s)))  \n"
      ],
      "execution_count": 0,
      "outputs": [
        {
          "output_type": "stream",
          "text": [
            "100%|██████████| 15/15 [01:00<00:00,  4.01s/it]\n",
            "100%|██████████| 15/15 [01:00<00:00,  4.02s/it]\n",
            "100%|██████████| 15/15 [00:02<00:00,  5.98it/s]\n",
            "100%|██████████| 15/15 [00:01<00:00,  7.09it/s]\n"
          ],
          "name": "stderr"
        },
        {
          "output_type": "stream",
          "text": [
            "\n",
            "k-NN using kd_tree best model: 13-NN, With Accuracy: 81.66%\n"
          ],
          "name": "stdout"
        },
        {
          "output_type": "display_data",
          "data": {
            "image/png": "[encoded data removed]",
            "text/plain": [
              "<Figure size 720x1440 with 4 Axes>"
            ]
          },
          "metadata": {
            "tags": []
          }
        }
      ]
    },
    {
      "cell_type": "markdown",
      "metadata": {
        "id": "crZ4qBCyDYN7",
        "colab_type": "text"
      },
      "source": [
        "# [6] Conclusions"
      ]
    },
    {
      "cell_type": "code",
      "metadata": {
        "id": "9OacHxi1DYN8",
        "colab_type": "code",
        "colab": {}
      },
      "source": [
        "# Please compare all your models using Prettytable library\n",
        "\n",
        "#1. Accuray raises as per k value increase in k-NN models\n",
        "#2. Only TF-IDF is showing better accuracy in lower values of nearest neighbors models\n",
        "#3. I have used 10 fold cross validation and accuracy graph is based on cross validation\n",
        "#4. Accuracy is nearly same for brute-force and kd-tree but kd-tree was comparatively faster\n",
        "#4. I have used 80% of all data for training and cross validation which becomes 60% train and 20% cross validation data, this gave me nearly 84% accuracy\n",
        "#5. While using 80% of training data and other 20% as test data without cross validation accuracy is 81.66 \n",
        "#6. Final conclusion: using 10 fold cross validation raised accuracy by 3% as expected"
      ],
      "execution_count": 0,
      "outputs": []
    },
    {
      "cell_type": "code",
      "metadata": {
        "id": "Y5qEPdPnJRTX",
        "colab_type": "code",
        "colab": {}
      },
      "source": [
        ""
      ],
      "execution_count": 0,
      "outputs": []
    }
  ]
}